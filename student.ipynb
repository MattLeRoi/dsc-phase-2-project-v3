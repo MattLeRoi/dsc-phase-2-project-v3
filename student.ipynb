{
 "cells": [
  {
   "cell_type": "markdown",
   "metadata": {},
   "source": [
    "# Final Project Submission\n",
    "\n",
    "Please fill out:\n",
    "* Student name: Matt LeRoi\n",
    "* Student pace: self paced\n",
    "* Scheduled project review date/time: \n",
    "* Instructor name: Mark Barbour\n",
    "* Blog post URL:\n"
   ]
  },
  {
   "cell_type": "markdown",
   "metadata": {},
   "source": [
    "### Business Understanding"
   ]
  },
  {
   "cell_type": "code",
   "execution_count": null,
   "metadata": {
    "scrolled": true
   },
   "outputs": [],
   "source": []
  },
  {
   "cell_type": "markdown",
   "metadata": {},
   "source": [
    "### Data Understanding"
   ]
  },
  {
   "cell_type": "code",
   "execution_count": 2,
   "metadata": {
    "scrolled": true
   },
   "outputs": [],
   "source": [
    "import pandas as pd\n",
    "import matplotlib.pyplot as plt\n",
    "import matplotlib.ticker as ticker\n",
    "import scipy.stats as stats\n",
    "import seaborn as sns\n",
    "import statsmodels.api as sm\n",
    "import sqlite3\n",
    "import statsmodels.formula.api as smf\n",
    "%matplotlib inline\n",
    "pd.set_option('display.max_columns', None)\n",
    "pd.set_option('display.max_rows', 200)"
   ]
  },
  {
   "cell_type": "markdown",
   "metadata": {},
   "source": [
    "##### Read the budget.csv file and diplay some basics about it."
   ]
  },
  {
   "cell_type": "code",
   "execution_count": 3,
   "metadata": {
    "scrolled": false
   },
   "outputs": [
    {
     "name": "stdout",
     "output_type": "stream",
     "text": [
      "<class 'pandas.core.frame.DataFrame'>\n",
      "RangeIndex: 5782 entries, 0 to 5781\n",
      "Data columns (total 6 columns):\n",
      " #   Column             Non-Null Count  Dtype \n",
      "---  ------             --------------  ----- \n",
      " 0   id                 5782 non-null   int64 \n",
      " 1   release_date       5782 non-null   object\n",
      " 2   movie              5782 non-null   object\n",
      " 3   production_budget  5782 non-null   object\n",
      " 4   domestic_gross     5782 non-null   object\n",
      " 5   worldwide_gross    5782 non-null   object\n",
      "dtypes: int64(1), object(5)\n",
      "memory usage: 271.2+ KB\n"
     ]
    }
   ],
   "source": [
    "budget = pd.read_csv(\"./data/tn.movie_budgets.csv.gz\")\n",
    "budget.info()"
   ]
  },
  {
   "cell_type": "code",
   "execution_count": 4,
   "metadata": {
    "scrolled": true
   },
   "outputs": [
    {
     "data": {
      "text/html": [
       "<div>\n",
       "<style scoped>\n",
       "    .dataframe tbody tr th:only-of-type {\n",
       "        vertical-align: middle;\n",
       "    }\n",
       "\n",
       "    .dataframe tbody tr th {\n",
       "        vertical-align: top;\n",
       "    }\n",
       "\n",
       "    .dataframe thead th {\n",
       "        text-align: right;\n",
       "    }\n",
       "</style>\n",
       "<table border=\"1\" class=\"dataframe\">\n",
       "  <thead>\n",
       "    <tr style=\"text-align: right;\">\n",
       "      <th></th>\n",
       "      <th>id</th>\n",
       "      <th>release_date</th>\n",
       "      <th>movie</th>\n",
       "      <th>production_budget</th>\n",
       "      <th>domestic_gross</th>\n",
       "      <th>worldwide_gross</th>\n",
       "    </tr>\n",
       "  </thead>\n",
       "  <tbody>\n",
       "    <tr>\n",
       "      <th>0</th>\n",
       "      <td>1</td>\n",
       "      <td>Dec 18, 2009</td>\n",
       "      <td>Avatar</td>\n",
       "      <td>$425,000,000</td>\n",
       "      <td>$760,507,625</td>\n",
       "      <td>$2,776,345,279</td>\n",
       "    </tr>\n",
       "    <tr>\n",
       "      <th>1</th>\n",
       "      <td>2</td>\n",
       "      <td>May 20, 2011</td>\n",
       "      <td>Pirates of the Caribbean: On Stranger Tides</td>\n",
       "      <td>$410,600,000</td>\n",
       "      <td>$241,063,875</td>\n",
       "      <td>$1,045,663,875</td>\n",
       "    </tr>\n",
       "    <tr>\n",
       "      <th>2</th>\n",
       "      <td>3</td>\n",
       "      <td>Jun 7, 2019</td>\n",
       "      <td>Dark Phoenix</td>\n",
       "      <td>$350,000,000</td>\n",
       "      <td>$42,762,350</td>\n",
       "      <td>$149,762,350</td>\n",
       "    </tr>\n",
       "    <tr>\n",
       "      <th>3</th>\n",
       "      <td>4</td>\n",
       "      <td>May 1, 2015</td>\n",
       "      <td>Avengers: Age of Ultron</td>\n",
       "      <td>$330,600,000</td>\n",
       "      <td>$459,005,868</td>\n",
       "      <td>$1,403,013,963</td>\n",
       "    </tr>\n",
       "    <tr>\n",
       "      <th>4</th>\n",
       "      <td>5</td>\n",
       "      <td>Dec 15, 2017</td>\n",
       "      <td>Star Wars Ep. VIII: The Last Jedi</td>\n",
       "      <td>$317,000,000</td>\n",
       "      <td>$620,181,382</td>\n",
       "      <td>$1,316,721,747</td>\n",
       "    </tr>\n",
       "  </tbody>\n",
       "</table>\n",
       "</div>"
      ],
      "text/plain": [
       "   id  release_date                                        movie  \\\n",
       "0   1  Dec 18, 2009                                       Avatar   \n",
       "1   2  May 20, 2011  Pirates of the Caribbean: On Stranger Tides   \n",
       "2   3   Jun 7, 2019                                 Dark Phoenix   \n",
       "3   4   May 1, 2015                      Avengers: Age of Ultron   \n",
       "4   5  Dec 15, 2017            Star Wars Ep. VIII: The Last Jedi   \n",
       "\n",
       "  production_budget domestic_gross worldwide_gross  \n",
       "0      $425,000,000   $760,507,625  $2,776,345,279  \n",
       "1      $410,600,000   $241,063,875  $1,045,663,875  \n",
       "2      $350,000,000    $42,762,350    $149,762,350  \n",
       "3      $330,600,000   $459,005,868  $1,403,013,963  \n",
       "4      $317,000,000   $620,181,382  $1,316,721,747  "
      ]
     },
     "execution_count": 4,
     "metadata": {},
     "output_type": "execute_result"
    }
   ],
   "source": [
    "budget.head()"
   ]
  },
  {
   "cell_type": "markdown",
   "metadata": {},
   "source": [
    "##### Format all of the data appropriately for future use and remove irrelevant rows."
   ]
  },
  {
   "cell_type": "code",
   "execution_count": 5,
   "metadata": {
    "scrolled": true
   },
   "outputs": [],
   "source": [
    "# Convert $ columns to numbers\n",
    "budget.production_budget = pd.to_numeric(budget.production_budget.str.replace('[$,]',''))\n",
    "budget.domestic_gross = pd.to_numeric(budget.domestic_gross.str.replace('[$,]',''))\n",
    "budget.worldwide_gross = pd.to_numeric(budget.worldwide_gross.str.replace('[$,]',''))"
   ]
  },
  {
   "cell_type": "code",
   "execution_count": 6,
   "metadata": {
    "scrolled": false
   },
   "outputs": [],
   "source": [
    "# Creating columns for release month, release year, profit (based on worldwide gross), \n",
    "# and ROI (Return on Investment, as %, i.e.: a ROI of -50% is a loss of half of the \n",
    "# production budget, a ROI of 0% is break-even, and a ROI of 75% is a 75% profit)\n",
    "\n",
    "budget['month']= pd.to_datetime(budget['release_date']).dt.month\n",
    "budget['year']= pd.to_datetime(budget['release_date']).dt.year\n",
    "budget['profit'] = budget.worldwide_gross - budget.production_budget\n",
    "budget['roi'] = 100*budget.profit/budget.production_budget"
   ]
  },
  {
   "cell_type": "code",
   "execution_count": 7,
   "metadata": {
    "scrolled": true
   },
   "outputs": [],
   "source": [
    "# Droping all entries that show zero worldwide gross as irrelevant\n",
    "budget.drop(budget[budget['worldwide_gross'] == 0].index, inplace=True)"
   ]
  },
  {
   "cell_type": "markdown",
   "metadata": {},
   "source": [
    "##### Open IMDB SQL database and join appropriate tables."
   ]
  },
  {
   "cell_type": "code",
   "execution_count": 8,
   "metadata": {
    "scrolled": false
   },
   "outputs": [],
   "source": [
    "conn = sqlite3.connect(\"./data/im.db\") # Open a connection to IMDB file\n",
    "cursor = conn.cursor() # Initialize cursor\n",
    "\n",
    "# SQL query to join movie akas, basics, and ratings tables for further analysis\n",
    "\n",
    "imdb_query = \"\"\"SELECT *, movie_akas.movie_id as mv_id\n",
    "                FROM movie_akas \n",
    "                join movie_ratings on movie_akas.movie_id = movie_ratings.movie_id\n",
    "                join movie_basics on movie_akas.movie_id = movie_basics.movie_id\n",
    "                ;\"\"\"\n",
    "\n",
    "imdb = pd.read_sql(imdb_query, conn)\n",
    "\n",
    "# Dropping duplicate movie_id columns (leaving the mv_id column I renamed) and \"title\" column.\n",
    "imdb.drop(['movie_id','title'],axis = 1, inplace=True)\n",
    "\n",
    "# Remove redundant rows with same unique identifier\n",
    "imdb.drop_duplicates(subset=['mv_id'], inplace=True) "
   ]
  },
  {
   "cell_type": "code",
   "execution_count": null,
   "metadata": {
    "scrolled": true
   },
   "outputs": [],
   "source": []
  },
  {
   "cell_type": "code",
   "execution_count": 9,
   "metadata": {
    "scrolled": false
   },
   "outputs": [
    {
     "name": "stdout",
     "output_type": "stream",
     "text": [
      "<class 'pandas.core.frame.DataFrame'>\n",
      "Int64Index: 69577 entries, 0 to 261803\n",
      "Data columns (total 14 columns):\n",
      " #   Column             Non-Null Count  Dtype  \n",
      "---  ------             --------------  -----  \n",
      " 0   ordering           69577 non-null  int64  \n",
      " 1   region             58133 non-null  object \n",
      " 2   language           5706 non-null   object \n",
      " 3   types              24182 non-null  object \n",
      " 4   attributes         2015 non-null   object \n",
      " 5   is_original_title  69577 non-null  float64\n",
      " 6   averagerating      69577 non-null  float64\n",
      " 7   numvotes           69577 non-null  int64  \n",
      " 8   primary_title      69577 non-null  object \n",
      " 9   original_title     69577 non-null  object \n",
      " 10  start_year         69577 non-null  int64  \n",
      " 11  runtime_minutes    62830 non-null  float64\n",
      " 12  genres             68937 non-null  object \n",
      " 13  mv_id              69577 non-null  object \n",
      "dtypes: float64(3), int64(3), object(8)\n",
      "memory usage: 8.0+ MB\n"
     ]
    }
   ],
   "source": [
    "imdb.info()"
   ]
  },
  {
   "cell_type": "code",
   "execution_count": 10,
   "metadata": {
    "scrolled": true
   },
   "outputs": [
    {
     "data": {
      "text/html": [
       "<div>\n",
       "<style scoped>\n",
       "    .dataframe tbody tr th:only-of-type {\n",
       "        vertical-align: middle;\n",
       "    }\n",
       "\n",
       "    .dataframe tbody tr th {\n",
       "        vertical-align: top;\n",
       "    }\n",
       "\n",
       "    .dataframe thead th {\n",
       "        text-align: right;\n",
       "    }\n",
       "</style>\n",
       "<table border=\"1\" class=\"dataframe\">\n",
       "  <thead>\n",
       "    <tr style=\"text-align: right;\">\n",
       "      <th></th>\n",
       "      <th>ordering</th>\n",
       "      <th>region</th>\n",
       "      <th>language</th>\n",
       "      <th>types</th>\n",
       "      <th>attributes</th>\n",
       "      <th>is_original_title</th>\n",
       "      <th>averagerating</th>\n",
       "      <th>numvotes</th>\n",
       "      <th>primary_title</th>\n",
       "      <th>original_title</th>\n",
       "      <th>start_year</th>\n",
       "      <th>runtime_minutes</th>\n",
       "      <th>genres</th>\n",
       "      <th>mv_id</th>\n",
       "    </tr>\n",
       "  </thead>\n",
       "  <tbody>\n",
       "    <tr>\n",
       "      <th>0</th>\n",
       "      <td>10</td>\n",
       "      <td>BG</td>\n",
       "      <td>bg</td>\n",
       "      <td>None</td>\n",
       "      <td>None</td>\n",
       "      <td>0.0</td>\n",
       "      <td>7.0</td>\n",
       "      <td>539338</td>\n",
       "      <td>Jurassic World</td>\n",
       "      <td>Jurassic World</td>\n",
       "      <td>2015</td>\n",
       "      <td>124.0</td>\n",
       "      <td>Action,Adventure,Sci-Fi</td>\n",
       "      <td>tt0369610</td>\n",
       "    </tr>\n",
       "    <tr>\n",
       "      <th>48</th>\n",
       "      <td>1</td>\n",
       "      <td>GB</td>\n",
       "      <td>None</td>\n",
       "      <td>None</td>\n",
       "      <td>None</td>\n",
       "      <td>0.0</td>\n",
       "      <td>7.6</td>\n",
       "      <td>23</td>\n",
       "      <td>Cloud Cuckoo Land</td>\n",
       "      <td>Cloud Cuckoo Land</td>\n",
       "      <td>2012</td>\n",
       "      <td>92.0</td>\n",
       "      <td>Drama</td>\n",
       "      <td>tt0381957</td>\n",
       "    </tr>\n",
       "    <tr>\n",
       "      <th>49</th>\n",
       "      <td>10</td>\n",
       "      <td>UA</td>\n",
       "      <td>None</td>\n",
       "      <td>None</td>\n",
       "      <td>None</td>\n",
       "      <td>0.0</td>\n",
       "      <td>6.6</td>\n",
       "      <td>241792</td>\n",
       "      <td>John Carter</td>\n",
       "      <td>John Carter</td>\n",
       "      <td>2012</td>\n",
       "      <td>132.0</td>\n",
       "      <td>Action,Adventure,Sci-Fi</td>\n",
       "      <td>tt0401729</td>\n",
       "    </tr>\n",
       "    <tr>\n",
       "      <th>83</th>\n",
       "      <td>1</td>\n",
       "      <td>None</td>\n",
       "      <td>None</td>\n",
       "      <td>original</td>\n",
       "      <td>None</td>\n",
       "      <td>1.0</td>\n",
       "      <td>7.0</td>\n",
       "      <td>5</td>\n",
       "      <td>Versailles Rediscovered - The Sun King's Vanis...</td>\n",
       "      <td>Versailles Rediscovered - The Sun King's Vanis...</td>\n",
       "      <td>2019</td>\n",
       "      <td>52.0</td>\n",
       "      <td>Documentary</td>\n",
       "      <td>tt10010134</td>\n",
       "    </tr>\n",
       "    <tr>\n",
       "      <th>86</th>\n",
       "      <td>1</td>\n",
       "      <td>IN</td>\n",
       "      <td>None</td>\n",
       "      <td>None</td>\n",
       "      <td>None</td>\n",
       "      <td>0.0</td>\n",
       "      <td>8.3</td>\n",
       "      <td>30</td>\n",
       "      <td>Vinara sodara veera kumara</td>\n",
       "      <td>Vinara sodara veera kumara</td>\n",
       "      <td>2019</td>\n",
       "      <td>NaN</td>\n",
       "      <td>Drama,Romance</td>\n",
       "      <td>tt10084780</td>\n",
       "    </tr>\n",
       "  </tbody>\n",
       "</table>\n",
       "</div>"
      ],
      "text/plain": [
       "    ordering region language     types attributes  is_original_title  \\\n",
       "0         10     BG       bg      None       None                0.0   \n",
       "48         1     GB     None      None       None                0.0   \n",
       "49        10     UA     None      None       None                0.0   \n",
       "83         1   None     None  original       None                1.0   \n",
       "86         1     IN     None      None       None                0.0   \n",
       "\n",
       "    averagerating  numvotes  \\\n",
       "0             7.0    539338   \n",
       "48            7.6        23   \n",
       "49            6.6    241792   \n",
       "83            7.0         5   \n",
       "86            8.3        30   \n",
       "\n",
       "                                        primary_title  \\\n",
       "0                                      Jurassic World   \n",
       "48                                  Cloud Cuckoo Land   \n",
       "49                                        John Carter   \n",
       "83  Versailles Rediscovered - The Sun King's Vanis...   \n",
       "86                         Vinara sodara veera kumara   \n",
       "\n",
       "                                       original_title  start_year  \\\n",
       "0                                      Jurassic World        2015   \n",
       "48                                  Cloud Cuckoo Land        2012   \n",
       "49                                        John Carter        2012   \n",
       "83  Versailles Rediscovered - The Sun King's Vanis...        2019   \n",
       "86                         Vinara sodara veera kumara        2019   \n",
       "\n",
       "    runtime_minutes                   genres       mv_id  \n",
       "0             124.0  Action,Adventure,Sci-Fi   tt0369610  \n",
       "48             92.0                    Drama   tt0381957  \n",
       "49            132.0  Action,Adventure,Sci-Fi   tt0401729  \n",
       "83             52.0              Documentary  tt10010134  \n",
       "86              NaN            Drama,Romance  tt10084780  "
      ]
     },
     "execution_count": 10,
     "metadata": {},
     "output_type": "execute_result"
    }
   ],
   "source": [
    "imdb.head()"
   ]
  },
  {
   "cell_type": "markdown",
   "metadata": {},
   "source": [
    "### Data Preparation"
   ]
  },
  {
   "cell_type": "markdown",
   "metadata": {},
   "source": [
    "The unique identifier from IMDB doesn't appear in the budget or gross databases, so I will\n",
    "have to use something else. The title alone has a significant number of duplicates, so\n",
    "I'm using the combination of title and start year to join the databases. Removing the rows\n",
    "in which both are duplicated (773 of 6191) is deemed an acceptable loss of data."
   ]
  },
  {
   "cell_type": "code",
   "execution_count": 11,
   "metadata": {
    "scrolled": true
   },
   "outputs": [],
   "source": [
    "imdb.drop_duplicates(subset=['primary_title','start_year'], inplace=True) "
   ]
  },
  {
   "cell_type": "markdown",
   "metadata": {},
   "source": [
    "Since the genres column may contain any combination of individual genres, I created individual columns for each genre and listed it as true or false if it applies to each film. In the model, I will see which genres have the highest effect on profit and ROI, and if certain combinations have particularly interesting effects."
   ]
  },
  {
   "cell_type": "code",
   "execution_count": 12,
   "metadata": {
    "scrolled": false
   },
   "outputs": [],
   "source": [
    "# This will create a list of all of the genres that appear in the IMDB database\n",
    "genre_list = []\n",
    "for value in imdb['genres'].str.split(','):\n",
    "    if value is not None:\n",
    "        genre_list.extend(value)\n",
    "genre_list = list(set(genre_list))\n",
    "\n",
    "# This function will take in a genre name (like \"Horror\" or \"Animation\"), create a column in the database for it,\n",
    "# and populate the column with True or False to show whether that genre applies to each movie.\n",
    "def add_genre_column (single_genre):\n",
    "    imdb[single_genre] = imdb['genres'].str.contains(single_genre)\n",
    "\n",
    "# This loops the genre list and calls the add_genre_column function to add a column for each genre        \n",
    "for x in genre_list:\n",
    "    add_genre_column(x)\n",
    "    \n",
    "# Rename columns names with dashes in them to avoid future errors\n",
    "imdb.rename(columns={'Game-Show': 'Game_Show', 'Reality-TV': 'Reality_TV', 'Sci-Fi' : 'Sci_Fi'}, inplace=True)\n",
    "genre_list = [g.replace('-', '_') for g in genre_list]"
   ]
  },
  {
   "cell_type": "code",
   "execution_count": 13,
   "metadata": {
    "scrolled": false
   },
   "outputs": [],
   "source": [
    "# Set index of each dataframe to the movie title and year, then rename for consistency.\n",
    "\n",
    "budget.set_index(['movie','year'], inplace=True)\n",
    "budget.index.rename(['title','year'], inplace=True)\n",
    "\n",
    "imdb.set_index(['primary_title','start_year'], inplace=True)\n",
    "imdb.index.rename(['title','year'], inplace=True)"
   ]
  },
  {
   "cell_type": "markdown",
   "metadata": {},
   "source": [
    "##### Time to join the IMDB and budget dataframes."
   ]
  },
  {
   "cell_type": "code",
   "execution_count": 14,
   "metadata": {
    "scrolled": true
   },
   "outputs": [],
   "source": [
    "imdb_budget = pd.concat([imdb, budget], axis=1, join=\"inner\")"
   ]
  },
  {
   "cell_type": "code",
   "execution_count": 15,
   "metadata": {
    "scrolled": false
   },
   "outputs": [],
   "source": [
    "# Adding runtime for those I found manually and removing entries for those I couldn't\n",
    "imdb_budget.loc['Burlesque','runtime_minutes']=119\n",
    "imdb_budget.drop(imdb_budget[imdb_budget['original_title'].str.contains('The Promise')].index, inplace=True)"
   ]
  },
  {
   "cell_type": "code",
   "execution_count": 16,
   "metadata": {},
   "outputs": [
    {
     "data": {
      "image/png": "[encoded data removed]",
      "text/plain": [
       "<Figure size 1152x864 with 4 Axes>"
      ]
     },
     "metadata": {
      "needs_background": "light"
     },
     "output_type": "display_data"
    }
   ],
   "source": [
    "fig, axs = plt.subplots(2,2, figsize=(16,12))\n",
    "axs[0, 0].hist(imdb_budget.averagerating, bins=25)\n",
    "axs[0, 0].set_xlabel('Ave. Rating')\n",
    "axs[0, 1].hist(imdb_budget.runtime_minutes, bins=25)\n",
    "axs[0, 1].set_xlabel('Runtime (minutes)')\n",
    "axs[1, 0].hist(imdb_budget.production_budget, bins=50)\n",
    "axs[1, 0].set_xlabel('Budget ($)')\n",
    "axs[1, 0].xaxis.set_major_formatter(ticker.StrMethodFormatter('{x:,.0f}'))\n",
    "axs[1, 1].hist(imdb_budget.month, bins=23)\n",
    "axs[1, 1].set_xlabel('Release Month')\n",
    "axs[1, 1].set_xticks(range(1, 13, 1))\n",
    "axs[1, 1].set_xticklabels(['January','February','March','April','May','June','July','August','September','October','November','December'], ha='right')\n",
    "\n",
    "\n",
    "for ax in axs.flat:\n",
    "    ax.set(ylabel='Count')\n",
    "\n",
    "for tick in axs[1, 1].get_xticklabels():\n",
    "    tick.set_rotation(50)"
   ]
  },
  {
   "cell_type": "code",
   "execution_count": 17,
   "metadata": {},
   "outputs": [
    {
     "data": {
      "text/plain": [
       "''"
      ]
     },
     "execution_count": 17,
     "metadata": {},
     "output_type": "execute_result"
    },
    {
     "data": {
      "image/png": "[encoded data removed]",
      "text/plain": [
       "<Figure size 1080x648 with 1 Axes>"
      ]
     },
     "metadata": {
      "needs_background": "light"
     },
     "output_type": "display_data"
    }
   ],
   "source": [
    "fig, ax = plt.subplots(figsize=(15,9))\n",
    "plt.hist(imdb_budget.roi, bins=500)\n",
    "\n",
    "ax.set_title('Histogram of Return on Investment (ROI))')\n",
    "ax.set_xlabel('ROI (%)')\n",
    "ax.set_xlim([-120, 2000])\n",
    "plt.axvline(x=298, color='r', linestyle='--', label = 'Mean ROI')\n",
    "plt.legend()\n",
    ";"
   ]
  },
  {
   "cell_type": "code",
   "execution_count": 18,
   "metadata": {
    "scrolled": false
   },
   "outputs": [
    {
     "data": {
      "text/plain": [
       "''"
      ]
     },
     "execution_count": 18,
     "metadata": {},
     "output_type": "execute_result"
    },
    {
     "data": {
      "image/png": "[encoded data removed]",
      "text/plain": [
       "<Figure size 1080x648 with 1 Axes>"
      ]
     },
     "metadata": {
      "needs_background": "light"
     },
     "output_type": "display_data"
    }
   ],
   "source": [
    "fig, ax = plt.subplots(figsize=(15,9))\n",
    "plt.scatter(imdb_budget.production_budget,imdb_budget.roi)\n",
    "\n",
    "ax.set_title('Budget vs. Return on Investment (ROI))')\n",
    "ax.set_xlabel(\"Budget\")\n",
    "ax.set_ylabel(\"ROI\")\n",
    "ax.set_ylim([-100, 6000])\n",
    ";"
   ]
  },
  {
   "cell_type": "code",
   "execution_count": null,
   "metadata": {
    "scrolled": false
   },
   "outputs": [],
   "source": []
  },
  {
   "cell_type": "code",
   "execution_count": null,
   "metadata": {
    "scrolled": false
   },
   "outputs": [],
   "source": []
  },
  {
   "cell_type": "code",
   "execution_count": 19,
   "metadata": {
    "scrolled": true
   },
   "outputs": [],
   "source": [
    "X=imdb_budget[['production_budget']]\n",
    "y=imdb_budget.roi\n",
    "\n",
    "# Create an OLS model\n",
    "model = sm.OLS(endog=y, exog=sm.add_constant(X))"
   ]
  },
  {
   "cell_type": "code",
   "execution_count": 20,
   "metadata": {
    "scrolled": false
   },
   "outputs": [
    {
     "data": {
      "text/html": [
       "<table class=\"simpletable\">\n",
       "<caption>OLS Regression Results</caption>\n",
       "<tr>\n",
       "  <th>Dep. Variable:</th>           <td>roi</td>       <th>  R-squared:         </th> <td>   0.003</td> \n",
       "</tr>\n",
       "<tr>\n",
       "  <th>Model:</th>                   <td>OLS</td>       <th>  Adj. R-squared:    </th> <td>   0.002</td> \n",
       "</tr>\n",
       "<tr>\n",
       "  <th>Method:</th>             <td>Least Squares</td>  <th>  F-statistic:       </th> <td>   3.783</td> \n",
       "</tr>\n",
       "<tr>\n",
       "  <th>Date:</th>             <td>Thu, 06 Feb 2025</td> <th>  Prob (F-statistic):</th>  <td>0.0520</td>  \n",
       "</tr>\n",
       "<tr>\n",
       "  <th>Time:</th>                 <td>10:28:49</td>     <th>  Log-Likelihood:    </th> <td> -11609.</td> \n",
       "</tr>\n",
       "<tr>\n",
       "  <th>No. Observations:</th>      <td>  1357</td>      <th>  AIC:               </th> <td>2.322e+04</td>\n",
       "</tr>\n",
       "<tr>\n",
       "  <th>Df Residuals:</th>          <td>  1355</td>      <th>  BIC:               </th> <td>2.323e+04</td>\n",
       "</tr>\n",
       "<tr>\n",
       "  <th>Df Model:</th>              <td>     1</td>      <th>                     </th>     <td> </td>    \n",
       "</tr>\n",
       "<tr>\n",
       "  <th>Covariance Type:</th>      <td>nonrobust</td>    <th>                     </th>     <td> </td>    \n",
       "</tr>\n",
       "</table>\n",
       "<table class=\"simpletable\">\n",
       "<tr>\n",
       "          <td></td>             <th>coef</th>     <th>std err</th>      <th>t</th>      <th>P>|t|</th>  <th>[0.025</th>    <th>0.975]</th>  \n",
       "</tr>\n",
       "<tr>\n",
       "  <th>const</th>             <td>  354.6377</td> <td>   44.605</td> <td>    7.951</td> <td> 0.000</td> <td>  267.134</td> <td>  442.141</td>\n",
       "</tr>\n",
       "<tr>\n",
       "  <th>production_budget</th> <td>-1.159e-06</td> <td> 5.96e-07</td> <td>   -1.945</td> <td> 0.052</td> <td>-2.33e-06</td> <td> 9.97e-09</td>\n",
       "</tr>\n",
       "</table>\n",
       "<table class=\"simpletable\">\n",
       "<tr>\n",
       "  <th>Omnibus:</th>       <td>3441.795</td> <th>  Durbin-Watson:     </th>   <td>   1.982</td>  \n",
       "</tr>\n",
       "<tr>\n",
       "  <th>Prob(Omnibus):</th>  <td> 0.000</td>  <th>  Jarque-Bera (JB):  </th> <td>41310732.792</td>\n",
       "</tr>\n",
       "<tr>\n",
       "  <th>Skew:</th>           <td>26.613</td>  <th>  Prob(JB):          </th>   <td>    0.00</td>  \n",
       "</tr>\n",
       "<tr>\n",
       "  <th>Kurtosis:</th>       <td>856.107</td> <th>  Cond. No.          </th>   <td>9.79e+07</td>  \n",
       "</tr>\n",
       "</table><br/><br/>Notes:<br/>[1] Standard Errors assume that the covariance matrix of the errors is correctly specified.<br/>[2] The condition number is large, 9.79e+07. This might indicate that there are<br/>strong multicollinearity or other numerical problems."
      ],
      "text/plain": [
       "<class 'statsmodels.iolib.summary.Summary'>\n",
       "\"\"\"\n",
       "                            OLS Regression Results                            \n",
       "==============================================================================\n",
       "Dep. Variable:                    roi   R-squared:                       0.003\n",
       "Model:                            OLS   Adj. R-squared:                  0.002\n",
       "Method:                 Least Squares   F-statistic:                     3.783\n",
       "Date:                Thu, 06 Feb 2025   Prob (F-statistic):             0.0520\n",
       "Time:                        10:28:49   Log-Likelihood:                -11609.\n",
       "No. Observations:                1357   AIC:                         2.322e+04\n",
       "Df Residuals:                    1355   BIC:                         2.323e+04\n",
       "Df Model:                           1                                         \n",
       "Covariance Type:            nonrobust                                         \n",
       "=====================================================================================\n",
       "                        coef    std err          t      P>|t|      [0.025      0.975]\n",
       "-------------------------------------------------------------------------------------\n",
       "const               354.6377     44.605      7.951      0.000     267.134     442.141\n",
       "production_budget -1.159e-06   5.96e-07     -1.945      0.052   -2.33e-06    9.97e-09\n",
       "==============================================================================\n",
       "Omnibus:                     3441.795   Durbin-Watson:                   1.982\n",
       "Prob(Omnibus):                  0.000   Jarque-Bera (JB):         41310732.792\n",
       "Skew:                          26.613   Prob(JB):                         0.00\n",
       "Kurtosis:                     856.107   Cond. No.                     9.79e+07\n",
       "==============================================================================\n",
       "\n",
       "Notes:\n",
       "[1] Standard Errors assume that the covariance matrix of the errors is correctly specified.\n",
       "[2] The condition number is large, 9.79e+07. This might indicate that there are\n",
       "strong multicollinearity or other numerical problems.\n",
       "\"\"\""
      ]
     },
     "execution_count": 20,
     "metadata": {},
     "output_type": "execute_result"
    }
   ],
   "source": [
    "# Get model results\n",
    "results = model.fit()\n",
    "# Display results summary\n",
    "results.summary()"
   ]
  },
  {
   "cell_type": "code",
   "execution_count": 21,
   "metadata": {
    "scrolled": false
   },
   "outputs": [
    {
     "data": {
      "image/png": "[encoded data removed]",
      "text/plain": [
       "<Figure size 432x288 with 1 Axes>"
      ]
     },
     "metadata": {
      "needs_background": "light"
     },
     "output_type": "display_data"
    }
   ],
   "source": [
    "# Plot the model fit (scatter plot and regression line)\n",
    "sns.regplot(x=\"production_budget\",y=\"roi\",data=imdb_budget);"
   ]
  },
  {
   "cell_type": "code",
   "execution_count": 22,
   "metadata": {},
   "outputs": [
    {
     "data": {
      "text/plain": [
       "''"
      ]
     },
     "execution_count": 22,
     "metadata": {},
     "output_type": "execute_result"
    },
    {
     "data": {
      "image/png": "[encoded data removed]",
      "text/plain": [
       "<Figure size 1080x648 with 1 Axes>"
      ]
     },
     "metadata": {
      "needs_background": "light"
     },
     "output_type": "display_data"
    }
   ],
   "source": [
    "fig, ax = plt.subplots(figsize=(15,9))\n",
    "plt.scatter(imdb_budget.averagerating,imdb_budget.roi)\n",
    "\n",
    "ax.set_title('Average Rating vs. Return on Investment (ROI))')\n",
    "ax.set_xlabel(\"averagerating\")\n",
    "ax.set_ylabel(\"ROI (%)\")\n",
    "ax.set_ylim([-100, 6000])\n",
    ";"
   ]
  },
  {
   "cell_type": "code",
   "execution_count": 23,
   "metadata": {},
   "outputs": [
    {
     "data": {
      "text/plain": [
       "''"
      ]
     },
     "execution_count": 23,
     "metadata": {},
     "output_type": "execute_result"
    },
    {
     "data": {
      "image/png": "[encoded data removed]",
      "text/plain": [
       "<Figure size 1080x648 with 1 Axes>"
      ]
     },
     "metadata": {
      "needs_background": "light"
     },
     "output_type": "display_data"
    }
   ],
   "source": [
    "fig, ax = plt.subplots(figsize=(15,9))\n",
    "plt.scatter(imdb_budget.runtime_minutes,imdb_budget.roi, label='runtime_minutes')\n",
    "\n",
    "ax.set_title('Runtime vs. Return on Investment (ROI))')\n",
    "ax.set_xlabel(\"runtime_minutes\")\n",
    "ax.set_ylabel(\"ROI (%)\")\n",
    "ax.set_ylim([-100, 6000])\n",
    "plt.legend()\n",
    "\n",
    ";"
   ]
  },
  {
   "cell_type": "code",
   "execution_count": 24,
   "metadata": {
    "scrolled": false
   },
   "outputs": [],
   "source": [
    "X=imdb_budget[['production_budget','averagerating', 'runtime_minutes']]\n",
    "y=imdb_budget.roi\n",
    "\n",
    "# Create an OLS model\n",
    "model = sm.OLS(endog=y, exog=sm.add_constant(X))"
   ]
  },
  {
   "cell_type": "code",
   "execution_count": 25,
   "metadata": {
    "scrolled": false
   },
   "outputs": [
    {
     "data": {
      "text/html": [
       "<table class=\"simpletable\">\n",
       "<caption>OLS Regression Results</caption>\n",
       "<tr>\n",
       "  <th>Dep. Variable:</th>           <td>roi</td>       <th>  R-squared:         </th> <td>   0.005</td> \n",
       "</tr>\n",
       "<tr>\n",
       "  <th>Model:</th>                   <td>OLS</td>       <th>  Adj. R-squared:    </th> <td>   0.002</td> \n",
       "</tr>\n",
       "<tr>\n",
       "  <th>Method:</th>             <td>Least Squares</td>  <th>  F-statistic:       </th> <td>   2.085</td> \n",
       "</tr>\n",
       "<tr>\n",
       "  <th>Date:</th>             <td>Thu, 06 Feb 2025</td> <th>  Prob (F-statistic):</th>  <td> 0.100</td>  \n",
       "</tr>\n",
       "<tr>\n",
       "  <th>Time:</th>                 <td>10:28:50</td>     <th>  Log-Likelihood:    </th> <td> -11608.</td> \n",
       "</tr>\n",
       "<tr>\n",
       "  <th>No. Observations:</th>      <td>  1357</td>      <th>  AIC:               </th> <td>2.322e+04</td>\n",
       "</tr>\n",
       "<tr>\n",
       "  <th>Df Residuals:</th>          <td>  1353</td>      <th>  BIC:               </th> <td>2.324e+04</td>\n",
       "</tr>\n",
       "<tr>\n",
       "  <th>Df Model:</th>              <td>     3</td>      <th>                     </th>     <td> </td>    \n",
       "</tr>\n",
       "<tr>\n",
       "  <th>Covariance Type:</th>      <td>nonrobust</td>    <th>                     </th>     <td> </td>    \n",
       "</tr>\n",
       "</table>\n",
       "<table class=\"simpletable\">\n",
       "<tr>\n",
       "          <td></td>             <th>coef</th>     <th>std err</th>      <th>t</th>      <th>P>|t|</th>  <th>[0.025</th>    <th>0.975]</th>  \n",
       "</tr>\n",
       "<tr>\n",
       "  <th>const</th>             <td>  526.7525</td> <td>  265.637</td> <td>    1.983</td> <td> 0.048</td> <td>    5.648</td> <td> 1047.857</td>\n",
       "</tr>\n",
       "<tr>\n",
       "  <th>production_budget</th> <td>-8.845e-07</td> <td> 6.36e-07</td> <td>   -1.390</td> <td> 0.165</td> <td>-2.13e-06</td> <td> 3.64e-07</td>\n",
       "</tr>\n",
       "<tr>\n",
       "  <th>averagerating</th>     <td>   29.1550</td> <td>   38.096</td> <td>    0.765</td> <td> 0.444</td> <td>  -45.579</td> <td>  103.890</td>\n",
       "</tr>\n",
       "<tr>\n",
       "  <th>runtime_minutes</th>   <td>   -3.4123</td> <td>    2.192</td> <td>   -1.557</td> <td> 0.120</td> <td>   -7.712</td> <td>    0.887</td>\n",
       "</tr>\n",
       "</table>\n",
       "<table class=\"simpletable\">\n",
       "<tr>\n",
       "  <th>Omnibus:</th>       <td>3443.483</td> <th>  Durbin-Watson:     </th>   <td>   1.985</td>  \n",
       "</tr>\n",
       "<tr>\n",
       "  <th>Prob(Omnibus):</th>  <td> 0.000</td>  <th>  Jarque-Bera (JB):  </th> <td>41464456.596</td>\n",
       "</tr>\n",
       "<tr>\n",
       "  <th>Skew:</th>           <td>26.645</td>  <th>  Prob(JB):          </th>   <td>    0.00</td>  \n",
       "</tr>\n",
       "<tr>\n",
       "  <th>Kurtosis:</th>       <td>857.695</td> <th>  Cond. No.          </th>   <td>5.85e+08</td>  \n",
       "</tr>\n",
       "</table><br/><br/>Notes:<br/>[1] Standard Errors assume that the covariance matrix of the errors is correctly specified.<br/>[2] The condition number is large, 5.85e+08. This might indicate that there are<br/>strong multicollinearity or other numerical problems."
      ],
      "text/plain": [
       "<class 'statsmodels.iolib.summary.Summary'>\n",
       "\"\"\"\n",
       "                            OLS Regression Results                            \n",
       "==============================================================================\n",
       "Dep. Variable:                    roi   R-squared:                       0.005\n",
       "Model:                            OLS   Adj. R-squared:                  0.002\n",
       "Method:                 Least Squares   F-statistic:                     2.085\n",
       "Date:                Thu, 06 Feb 2025   Prob (F-statistic):              0.100\n",
       "Time:                        10:28:50   Log-Likelihood:                -11608.\n",
       "No. Observations:                1357   AIC:                         2.322e+04\n",
       "Df Residuals:                    1353   BIC:                         2.324e+04\n",
       "Df Model:                           3                                         \n",
       "Covariance Type:            nonrobust                                         \n",
       "=====================================================================================\n",
       "                        coef    std err          t      P>|t|      [0.025      0.975]\n",
       "-------------------------------------------------------------------------------------\n",
       "const               526.7525    265.637      1.983      0.048       5.648    1047.857\n",
       "production_budget -8.845e-07   6.36e-07     -1.390      0.165   -2.13e-06    3.64e-07\n",
       "averagerating        29.1550     38.096      0.765      0.444     -45.579     103.890\n",
       "runtime_minutes      -3.4123      2.192     -1.557      0.120      -7.712       0.887\n",
       "==============================================================================\n",
       "Omnibus:                     3443.483   Durbin-Watson:                   1.985\n",
       "Prob(Omnibus):                  0.000   Jarque-Bera (JB):         41464456.596\n",
       "Skew:                          26.645   Prob(JB):                         0.00\n",
       "Kurtosis:                     857.695   Cond. No.                     5.85e+08\n",
       "==============================================================================\n",
       "\n",
       "Notes:\n",
       "[1] Standard Errors assume that the covariance matrix of the errors is correctly specified.\n",
       "[2] The condition number is large, 5.85e+08. This might indicate that there are\n",
       "strong multicollinearity or other numerical problems.\n",
       "\"\"\""
      ]
     },
     "execution_count": 25,
     "metadata": {},
     "output_type": "execute_result"
    }
   ],
   "source": [
    "# Get model results\n",
    "results = model.fit()\n",
    "# Display results summary\n",
    "results.summary()"
   ]
  },
  {
   "cell_type": "code",
   "execution_count": 26,
   "metadata": {
    "scrolled": false
   },
   "outputs": [
    {
     "data": {
      "text/html": [
       "<table class=\"simpletable\">\n",
       "<caption>OLS Regression Results</caption>\n",
       "<tr>\n",
       "  <th>Dep. Variable:</th>           <td>roi</td>       <th>  R-squared:         </th> <td>   0.058</td> \n",
       "</tr>\n",
       "<tr>\n",
       "  <th>Model:</th>                   <td>OLS</td>       <th>  Adj. R-squared:    </th> <td>   0.041</td> \n",
       "</tr>\n",
       "<tr>\n",
       "  <th>Method:</th>             <td>Least Squares</td>  <th>  F-statistic:       </th> <td>   3.402</td> \n",
       "</tr>\n",
       "<tr>\n",
       "  <th>Date:</th>             <td>Thu, 06 Feb 2025</td> <th>  Prob (F-statistic):</th> <td>6.35e-08</td> \n",
       "</tr>\n",
       "<tr>\n",
       "  <th>Time:</th>                 <td>10:28:50</td>     <th>  Log-Likelihood:    </th> <td> -11570.</td> \n",
       "</tr>\n",
       "<tr>\n",
       "  <th>No. Observations:</th>      <td>  1357</td>      <th>  AIC:               </th> <td>2.319e+04</td>\n",
       "</tr>\n",
       "<tr>\n",
       "  <th>Df Residuals:</th>          <td>  1332</td>      <th>  BIC:               </th> <td>2.332e+04</td>\n",
       "</tr>\n",
       "<tr>\n",
       "  <th>Df Model:</th>              <td>    24</td>      <th>                     </th>     <td> </td>    \n",
       "</tr>\n",
       "<tr>\n",
       "  <th>Covariance Type:</th>      <td>nonrobust</td>    <th>                     </th>     <td> </td>    \n",
       "</tr>\n",
       "</table>\n",
       "<table class=\"simpletable\">\n",
       "<tr>\n",
       "             <td></td>               <th>coef</th>     <th>std err</th>      <th>t</th>      <th>P>|t|</th>  <th>[0.025</th>    <th>0.975]</th>  \n",
       "</tr>\n",
       "<tr>\n",
       "  <th>Intercept</th>              <td>  -50.3493</td> <td>  334.421</td> <td>   -0.151</td> <td> 0.880</td> <td> -706.399</td> <td>  605.701</td>\n",
       "</tr>\n",
       "<tr>\n",
       "  <th>C(Adventure)[T.True]</th>   <td>   30.7994</td> <td>  116.438</td> <td>    0.265</td> <td> 0.791</td> <td> -197.622</td> <td>  259.221</td>\n",
       "</tr>\n",
       "<tr>\n",
       "  <th>C(Fantasy)[T.True]</th>     <td>  -88.0263</td> <td>  138.111</td> <td>   -0.637</td> <td> 0.524</td> <td> -358.964</td> <td>  182.912</td>\n",
       "</tr>\n",
       "<tr>\n",
       "  <th>C(Action)[T.True]</th>      <td>  -67.4056</td> <td>   98.175</td> <td>   -0.687</td> <td> 0.492</td> <td> -260.000</td> <td>  125.189</td>\n",
       "</tr>\n",
       "<tr>\n",
       "  <th>C(Sport)[T.True]</th>       <td> -123.1448</td> <td>  234.148</td> <td>   -0.526</td> <td> 0.599</td> <td> -582.483</td> <td>  336.193</td>\n",
       "</tr>\n",
       "<tr>\n",
       "  <th>C(Mystery)[T.True]</th>     <td>  433.5588</td> <td>  135.536</td> <td>    3.199</td> <td> 0.001</td> <td>  167.672</td> <td>  699.445</td>\n",
       "</tr>\n",
       "<tr>\n",
       "  <th>C(Crime)[T.True]</th>       <td> -209.1418</td> <td>  107.304</td> <td>   -1.949</td> <td> 0.051</td> <td> -419.645</td> <td>    1.361</td>\n",
       "</tr>\n",
       "<tr>\n",
       "  <th>C(Game_Show)[T.True]</th>   <td> 8.661e-11</td> <td> 1.84e-10</td> <td>    0.471</td> <td> 0.638</td> <td>-2.74e-10</td> <td> 4.47e-10</td>\n",
       "</tr>\n",
       "<tr>\n",
       "  <th>C(Biography)[T.True]</th>   <td>   54.1250</td> <td>  132.556</td> <td>    0.408</td> <td> 0.683</td> <td> -205.916</td> <td>  314.166</td>\n",
       "</tr>\n",
       "<tr>\n",
       "  <th>C(Romance)[T.True]</th>     <td>   46.2197</td> <td>  116.807</td> <td>    0.396</td> <td> 0.692</td> <td> -182.927</td> <td>  275.366</td>\n",
       "</tr>\n",
       "<tr>\n",
       "  <th>C(Drama)[T.True]</th>       <td> -137.6685</td> <td>  100.474</td> <td>   -1.370</td> <td> 0.171</td> <td> -334.773</td> <td>   59.436</td>\n",
       "</tr>\n",
       "<tr>\n",
       "  <th>C(Musical)[T.True]</th>     <td>   24.4147</td> <td>  538.858</td> <td>    0.045</td> <td> 0.964</td> <td>-1032.689</td> <td> 1081.518</td>\n",
       "</tr>\n",
       "<tr>\n",
       "  <th>C(Comedy)[T.True]</th>      <td>  -35.2039</td> <td>  104.576</td> <td>   -0.337</td> <td> 0.736</td> <td> -240.355</td> <td>  169.947</td>\n",
       "</tr>\n",
       "<tr>\n",
       "  <th>C(Sci_Fi)[T.True]</th>      <td>  -91.7057</td> <td>  137.538</td> <td>   -0.667</td> <td> 0.505</td> <td> -361.521</td> <td>  178.110</td>\n",
       "</tr>\n",
       "<tr>\n",
       "  <th>C(Horror)[T.True]</th>      <td>  525.5296</td> <td>  135.040</td> <td>    3.892</td> <td> 0.000</td> <td>  260.615</td> <td>  790.444</td>\n",
       "</tr>\n",
       "<tr>\n",
       "  <th>C(Adult)[T.True]</th>       <td>-6.881e-13</td> <td> 1.51e-12</td> <td>   -0.457</td> <td> 0.648</td> <td>-3.64e-12</td> <td> 2.27e-12</td>\n",
       "</tr>\n",
       "<tr>\n",
       "  <th>C(Reality_TV)[T.True]</th>  <td>-1.074e-12</td> <td> 2.21e-12</td> <td>   -0.486</td> <td> 0.627</td> <td>-5.41e-12</td> <td> 3.26e-12</td>\n",
       "</tr>\n",
       "<tr>\n",
       "  <th>C(Family)[T.True]</th>      <td>  -46.2362</td> <td>  150.169</td> <td>   -0.308</td> <td> 0.758</td> <td> -340.830</td> <td>  248.357</td>\n",
       "</tr>\n",
       "<tr>\n",
       "  <th>C(News)[T.True]</th>        <td> -6.75e-13</td> <td> 1.33e-12</td> <td>   -0.508</td> <td> 0.612</td> <td>-3.28e-12</td> <td> 1.93e-12</td>\n",
       "</tr>\n",
       "<tr>\n",
       "  <th>C(Documentary)[T.True]</th> <td> -169.6243</td> <td>  277.827</td> <td>   -0.611</td> <td> 0.542</td> <td> -714.650</td> <td>  375.401</td>\n",
       "</tr>\n",
       "<tr>\n",
       "  <th>C(Music)[T.True]</th>       <td>   44.3076</td> <td>  193.917</td> <td>    0.228</td> <td> 0.819</td> <td> -336.108</td> <td>  424.723</td>\n",
       "</tr>\n",
       "<tr>\n",
       "  <th>C(Thriller)[T.True]</th>    <td>  191.4529</td> <td>  113.190</td> <td>    1.691</td> <td> 0.091</td> <td>  -30.597</td> <td>  413.503</td>\n",
       "</tr>\n",
       "<tr>\n",
       "  <th>C(Animation)[T.True]</th>   <td>  -23.3875</td> <td>  166.575</td> <td>   -0.140</td> <td> 0.888</td> <td> -350.165</td> <td>  303.390</td>\n",
       "</tr>\n",
       "<tr>\n",
       "  <th>C(War)[T.True]</th>         <td> -169.9225</td> <td>  310.267</td> <td>   -0.548</td> <td> 0.584</td> <td> -778.587</td> <td>  438.742</td>\n",
       "</tr>\n",
       "<tr>\n",
       "  <th>C(History)[T.True]</th>     <td>  -76.5551</td> <td>  216.948</td> <td>   -0.353</td> <td> 0.724</td> <td> -502.152</td> <td>  349.042</td>\n",
       "</tr>\n",
       "<tr>\n",
       "  <th>C(Western)[T.True]</th>     <td> -168.6119</td> <td>  418.615</td> <td>   -0.403</td> <td> 0.687</td> <td> -989.829</td> <td>  652.605</td>\n",
       "</tr>\n",
       "<tr>\n",
       "  <th>runtime_minutes</th>        <td>   -1.4870</td> <td>    2.497</td> <td>   -0.595</td> <td> 0.552</td> <td>   -6.386</td> <td>    3.412</td>\n",
       "</tr>\n",
       "<tr>\n",
       "  <th>averagerating</th>          <td>   87.3151</td> <td>   40.429</td> <td>    2.160</td> <td> 0.031</td> <td>    8.003</td> <td>  166.627</td>\n",
       "</tr>\n",
       "<tr>\n",
       "  <th>production_budget</th>      <td> -5.99e-07</td> <td> 9.12e-07</td> <td>   -0.657</td> <td> 0.512</td> <td>-2.39e-06</td> <td> 1.19e-06</td>\n",
       "</tr>\n",
       "</table>\n",
       "<table class=\"simpletable\">\n",
       "<tr>\n",
       "  <th>Omnibus:</th>       <td>3451.613</td> <th>  Durbin-Watson:     </th>   <td>   1.974</td>  \n",
       "</tr>\n",
       "<tr>\n",
       "  <th>Prob(Omnibus):</th>  <td> 0.000</td>  <th>  Jarque-Bera (JB):  </th> <td>42603481.634</td>\n",
       "</tr>\n",
       "<tr>\n",
       "  <th>Skew:</th>           <td>26.795</td>  <th>  Prob(JB):          </th>   <td>    0.00</td>  \n",
       "</tr>\n",
       "<tr>\n",
       "  <th>Kurtosis:</th>       <td>869.381</td> <th>  Cond. No.          </th>   <td>1.31e+16</td>  \n",
       "</tr>\n",
       "</table><br/><br/>Notes:<br/>[1] Standard Errors assume that the covariance matrix of the errors is correctly specified.<br/>[2] The smallest eigenvalue is 4.45e-14. This might indicate that there are<br/>strong multicollinearity problems or that the design matrix is singular."
      ],
      "text/plain": [
       "<class 'statsmodels.iolib.summary.Summary'>\n",
       "\"\"\"\n",
       "                            OLS Regression Results                            \n",
       "==============================================================================\n",
       "Dep. Variable:                    roi   R-squared:                       0.058\n",
       "Model:                            OLS   Adj. R-squared:                  0.041\n",
       "Method:                 Least Squares   F-statistic:                     3.402\n",
       "Date:                Thu, 06 Feb 2025   Prob (F-statistic):           6.35e-08\n",
       "Time:                        10:28:50   Log-Likelihood:                -11570.\n",
       "No. Observations:                1357   AIC:                         2.319e+04\n",
       "Df Residuals:                    1332   BIC:                         2.332e+04\n",
       "Df Model:                          24                                         \n",
       "Covariance Type:            nonrobust                                         \n",
       "==========================================================================================\n",
       "                             coef    std err          t      P>|t|      [0.025      0.975]\n",
       "------------------------------------------------------------------------------------------\n",
       "Intercept                -50.3493    334.421     -0.151      0.880    -706.399     605.701\n",
       "C(Adventure)[T.True]      30.7994    116.438      0.265      0.791    -197.622     259.221\n",
       "C(Fantasy)[T.True]       -88.0263    138.111     -0.637      0.524    -358.964     182.912\n",
       "C(Action)[T.True]        -67.4056     98.175     -0.687      0.492    -260.000     125.189\n",
       "C(Sport)[T.True]        -123.1448    234.148     -0.526      0.599    -582.483     336.193\n",
       "C(Mystery)[T.True]       433.5588    135.536      3.199      0.001     167.672     699.445\n",
       "C(Crime)[T.True]        -209.1418    107.304     -1.949      0.051    -419.645       1.361\n",
       "C(Game_Show)[T.True]    8.661e-11   1.84e-10      0.471      0.638   -2.74e-10    4.47e-10\n",
       "C(Biography)[T.True]      54.1250    132.556      0.408      0.683    -205.916     314.166\n",
       "C(Romance)[T.True]        46.2197    116.807      0.396      0.692    -182.927     275.366\n",
       "C(Drama)[T.True]        -137.6685    100.474     -1.370      0.171    -334.773      59.436\n",
       "C(Musical)[T.True]        24.4147    538.858      0.045      0.964   -1032.689    1081.518\n",
       "C(Comedy)[T.True]        -35.2039    104.576     -0.337      0.736    -240.355     169.947\n",
       "C(Sci_Fi)[T.True]        -91.7057    137.538     -0.667      0.505    -361.521     178.110\n",
       "C(Horror)[T.True]        525.5296    135.040      3.892      0.000     260.615     790.444\n",
       "C(Adult)[T.True]       -6.881e-13   1.51e-12     -0.457      0.648   -3.64e-12    2.27e-12\n",
       "C(Reality_TV)[T.True]  -1.074e-12   2.21e-12     -0.486      0.627   -5.41e-12    3.26e-12\n",
       "C(Family)[T.True]        -46.2362    150.169     -0.308      0.758    -340.830     248.357\n",
       "C(News)[T.True]         -6.75e-13   1.33e-12     -0.508      0.612   -3.28e-12    1.93e-12\n",
       "C(Documentary)[T.True]  -169.6243    277.827     -0.611      0.542    -714.650     375.401\n",
       "C(Music)[T.True]          44.3076    193.917      0.228      0.819    -336.108     424.723\n",
       "C(Thriller)[T.True]      191.4529    113.190      1.691      0.091     -30.597     413.503\n",
       "C(Animation)[T.True]     -23.3875    166.575     -0.140      0.888    -350.165     303.390\n",
       "C(War)[T.True]          -169.9225    310.267     -0.548      0.584    -778.587     438.742\n",
       "C(History)[T.True]       -76.5551    216.948     -0.353      0.724    -502.152     349.042\n",
       "C(Western)[T.True]      -168.6119    418.615     -0.403      0.687    -989.829     652.605\n",
       "runtime_minutes           -1.4870      2.497     -0.595      0.552      -6.386       3.412\n",
       "averagerating             87.3151     40.429      2.160      0.031       8.003     166.627\n",
       "production_budget       -5.99e-07   9.12e-07     -0.657      0.512   -2.39e-06    1.19e-06\n",
       "==============================================================================\n",
       "Omnibus:                     3451.613   Durbin-Watson:                   1.974\n",
       "Prob(Omnibus):                  0.000   Jarque-Bera (JB):         42603481.634\n",
       "Skew:                          26.795   Prob(JB):                         0.00\n",
       "Kurtosis:                     869.381   Cond. No.                     1.31e+16\n",
       "==============================================================================\n",
       "\n",
       "Notes:\n",
       "[1] Standard Errors assume that the covariance matrix of the errors is correctly specified.\n",
       "[2] The smallest eigenvalue is 4.45e-14. This might indicate that there are\n",
       "strong multicollinearity problems or that the design matrix is singular.\n",
       "\"\"\""
      ]
     },
     "execution_count": 26,
     "metadata": {},
     "output_type": "execute_result"
    }
   ],
   "source": [
    "formula = ') + C('.join([str(g) for g in genre_list])\n",
    "formula = 'roi ~ C('+formula+')'+ '+runtime_minutes + averagerating + production_budget'\n",
    "lm = smf.ols(formula, imdb_budget).fit()\n",
    "lm.summary()"
   ]
  },
  {
   "cell_type": "code",
   "execution_count": 27,
   "metadata": {},
   "outputs": [
    {
     "name": "stdout",
     "output_type": "stream",
     "text": [
      "                         sum_sq      df          F    PR(>F)\n",
      "C(Horror)          2.300829e+07     1.0  15.145005  0.000104\n",
      "C(Mystery)         1.554548e+07     1.0  10.232677  0.001412\n",
      "averagerating      7.085953e+06     1.0   4.664266  0.030975\n",
      "C(Crime)           5.771200e+06     1.0   3.798841  0.051498\n",
      "C(Thriller)        4.346333e+06     1.0   2.860935  0.090989\n",
      "C(Drama)           2.852194e+06     1.0   1.877431  0.170857\n",
      "C(Action)          7.161504e+05     1.0   0.471400  0.492463\n",
      "C(Sci_Fi)          6.753976e+05     1.0   0.444574  0.505038\n",
      "production_budget  6.548944e+05     1.0   0.431078  0.511574\n",
      "C(Fantasy)         6.171418e+05     1.0   0.406228  0.524000\n",
      "C(Documentary)     5.662958e+05     1.0   0.372759  0.541608\n",
      "runtime_minutes    5.386856e+05     1.0   0.354585  0.551630\n",
      "C(War)             4.556661e+05     1.0   0.299938  0.584013\n",
      "C(Sport)           4.202114e+05     1.0   0.276600  0.599026\n",
      "C(News)            3.919145e+05     1.0   0.257974  0.611599\n",
      "C(Reality_TV)      3.587322e+05     1.0   0.236132  0.627094\n",
      "C(Game_Show)       3.371838e+05     1.0   0.221948  0.637637\n",
      "C(Adult)           3.167282e+05     1.0   0.208484  0.648033\n",
      "C(Biography)       2.532874e+05     1.0   0.166724  0.683105\n",
      "C(Western)         2.464685e+05     1.0   0.162236  0.687171\n",
      "C(Romance)         2.378638e+05     1.0   0.156572  0.692396\n",
      "C(History)         1.891702e+05     1.0   0.124520  0.724239\n",
      "C(Comedy)          1.721606e+05     1.0   0.113323  0.736445\n",
      "C(Family)          1.440187e+05     1.0   0.094799  0.758211\n",
      "C(Adventure)       1.062947e+05     1.0   0.069968  0.791425\n",
      "C(Music)           7.931238e+04     1.0   0.052207  0.819302\n",
      "C(Animation)       2.994770e+04     1.0   0.019713  0.888363\n",
      "C(Musical)         3.118667e+03     1.0   0.002053  0.963868\n",
      "Residual           2.023574e+09  1332.0        NaN       NaN\n"
     ]
    }
   ],
   "source": [
    "table = sm.stats.anova_lm(lm, typ=2)\n",
    "table.sort_values('PR(>F)', inplace=True, ascending=True)\n",
    "print(table)"
   ]
  },
  {
   "cell_type": "code",
   "execution_count": 28,
   "metadata": {},
   "outputs": [],
   "source": [
    "imdbudget_genre_list = []\n",
    "for value in imdb_budget['genres'].str.split(','):\n",
    "    if value is not None:\n",
    "        imdbudget_genre_list.extend(value)\n",
    "imdbudget_genre_list = list(set(imdbudget_genre_list))\n",
    "imdbudget_genre_list = [g.replace('-', '_') for g in imdbudget_genre_list]"
   ]
  },
  {
   "cell_type": "code",
   "execution_count": 29,
   "metadata": {
    "scrolled": false
   },
   "outputs": [],
   "source": [
    "# Create table of genres vs mean ROI, profit, and worldwide gross\n",
    "\n",
    "genre_means = pd.DataFrame([(g, imdb_budget['production_budget'][imdb_budget[g]==True].mean(),\n",
    "                             imdb_budget['roi'][imdb_budget[g]==True].mean(), \n",
    "                             imdb_budget['profit'][imdb_budget[g]==True].mean(), \n",
    "                             imdb_budget['worldwide_gross'][imdb_budget[g]==True].mean()) \n",
    "                            for g in imdbudget_genre_list], columns=['genre','budget','mean_roi','mean_profit', 'mean_ww_gross'])\n",
    "\n",
    "# Add a line for the overall averages for comparison\n",
    "overall = {'genre': 'Overall', \n",
    "          'budget' : imdb_budget['production_budget'].mean(),\n",
    "          'mean_roi': imdb_budget['roi'].mean(), \n",
    "          'mean_profit': imdb_budget['profit'].mean(), \n",
    "          'mean_ww_gross': imdb_budget['worldwide_gross'].mean()                               }\n",
    "genre_means = genre_means.append(overall, ignore_index=True)\n",
    "\n",
    "# Create lists of top 3 genres for ROI and profit, plus overall\n",
    "top_roi = genre_means.sort_values('mean_roi', ascending=False).head(3).append(overall, ignore_index=True)\n",
    "top_profit = genre_means.sort_values('mean_profit', ascending=False).head(3).append(overall, ignore_index=True)"
   ]
  },
  {
   "cell_type": "code",
   "execution_count": 30,
   "metadata": {},
   "outputs": [
    {
     "data": {
      "text/html": [
       "<div>\n",
       "<style scoped>\n",
       "    .dataframe tbody tr th:only-of-type {\n",
       "        vertical-align: middle;\n",
       "    }\n",
       "\n",
       "    .dataframe tbody tr th {\n",
       "        vertical-align: top;\n",
       "    }\n",
       "\n",
       "    .dataframe thead th {\n",
       "        text-align: right;\n",
       "    }\n",
       "</style>\n",
       "<table border=\"1\" class=\"dataframe\">\n",
       "  <thead>\n",
       "    <tr style=\"text-align: right;\">\n",
       "      <th></th>\n",
       "      <th>genre</th>\n",
       "      <th>budget</th>\n",
       "      <th>mean_roi</th>\n",
       "      <th>mean_profit</th>\n",
       "      <th>mean_ww_gross</th>\n",
       "    </tr>\n",
       "  </thead>\n",
       "  <tbody>\n",
       "    <tr>\n",
       "      <th>12</th>\n",
       "      <td>Horror</td>\n",
       "      <td>1.983247e+07</td>\n",
       "      <td>959.933922</td>\n",
       "      <td>5.887476e+07</td>\n",
       "      <td>7.870723e+07</td>\n",
       "    </tr>\n",
       "    <tr>\n",
       "      <th>4</th>\n",
       "      <td>Mystery</td>\n",
       "      <td>2.605498e+07</td>\n",
       "      <td>944.029296</td>\n",
       "      <td>7.069490e+07</td>\n",
       "      <td>9.674988e+07</td>\n",
       "    </tr>\n",
       "    <tr>\n",
       "      <th>16</th>\n",
       "      <td>Thriller</td>\n",
       "      <td>3.568454e+07</td>\n",
       "      <td>598.186551</td>\n",
       "      <td>9.246756e+07</td>\n",
       "      <td>1.281521e+08</td>\n",
       "    </tr>\n",
       "    <tr>\n",
       "      <th>21</th>\n",
       "      <td>Overall</td>\n",
       "      <td>4.821342e+07</td>\n",
       "      <td>298.775147</td>\n",
       "      <td>1.060221e+08</td>\n",
       "      <td>1.542355e+08</td>\n",
       "    </tr>\n",
       "    <tr>\n",
       "      <th>11</th>\n",
       "      <td>Sci_Fi</td>\n",
       "      <td>1.002206e+08</td>\n",
       "      <td>284.919637</td>\n",
       "      <td>2.670834e+08</td>\n",
       "      <td>3.673040e+08</td>\n",
       "    </tr>\n",
       "    <tr>\n",
       "      <th>17</th>\n",
       "      <td>Animation</td>\n",
       "      <td>1.001939e+08</td>\n",
       "      <td>278.690125</td>\n",
       "      <td>2.885616e+08</td>\n",
       "      <td>3.887555e+08</td>\n",
       "    </tr>\n",
       "    <tr>\n",
       "      <th>7</th>\n",
       "      <td>Romance</td>\n",
       "      <td>2.319897e+07</td>\n",
       "      <td>266.997046</td>\n",
       "      <td>4.729594e+07</td>\n",
       "      <td>7.049490e+07</td>\n",
       "    </tr>\n",
       "    <tr>\n",
       "      <th>14</th>\n",
       "      <td>Music</td>\n",
       "      <td>2.167212e+07</td>\n",
       "      <td>260.835228</td>\n",
       "      <td>8.068378e+07</td>\n",
       "      <td>1.023559e+08</td>\n",
       "    </tr>\n",
       "    <tr>\n",
       "      <th>6</th>\n",
       "      <td>Biography</td>\n",
       "      <td>2.645326e+07</td>\n",
       "      <td>249.716421</td>\n",
       "      <td>5.680710e+07</td>\n",
       "      <td>8.326035e+07</td>\n",
       "    </tr>\n",
       "    <tr>\n",
       "      <th>8</th>\n",
       "      <td>Drama</td>\n",
       "      <td>2.831032e+07</td>\n",
       "      <td>239.786746</td>\n",
       "      <td>5.072263e+07</td>\n",
       "      <td>7.903295e+07</td>\n",
       "    </tr>\n",
       "    <tr>\n",
       "      <th>10</th>\n",
       "      <td>Comedy</td>\n",
       "      <td>4.253050e+07</td>\n",
       "      <td>228.903605</td>\n",
       "      <td>1.004136e+08</td>\n",
       "      <td>1.429441e+08</td>\n",
       "    </tr>\n",
       "    <tr>\n",
       "      <th>9</th>\n",
       "      <td>Musical</td>\n",
       "      <td>5.498333e+07</td>\n",
       "      <td>226.083644</td>\n",
       "      <td>2.380598e+08</td>\n",
       "      <td>2.930431e+08</td>\n",
       "    </tr>\n",
       "    <tr>\n",
       "      <th>1</th>\n",
       "      <td>Fantasy</td>\n",
       "      <td>8.758922e+07</td>\n",
       "      <td>223.183648</td>\n",
       "      <td>1.600638e+08</td>\n",
       "      <td>2.476530e+08</td>\n",
       "    </tr>\n",
       "    <tr>\n",
       "      <th>0</th>\n",
       "      <td>Adventure</td>\n",
       "      <td>1.092426e+08</td>\n",
       "      <td>216.977629</td>\n",
       "      <td>2.522447e+08</td>\n",
       "      <td>3.614874e+08</td>\n",
       "    </tr>\n",
       "    <tr>\n",
       "      <th>15</th>\n",
       "      <td>Documentary</td>\n",
       "      <td>9.303630e+06</td>\n",
       "      <td>207.825140</td>\n",
       "      <td>1.933950e+07</td>\n",
       "      <td>2.864313e+07</td>\n",
       "    </tr>\n",
       "    <tr>\n",
       "      <th>2</th>\n",
       "      <td>Action</td>\n",
       "      <td>8.398801e+07</td>\n",
       "      <td>177.098102</td>\n",
       "      <td>1.725864e+08</td>\n",
       "      <td>2.565744e+08</td>\n",
       "    </tr>\n",
       "    <tr>\n",
       "      <th>13</th>\n",
       "      <td>Family</td>\n",
       "      <td>7.245233e+07</td>\n",
       "      <td>174.657142</td>\n",
       "      <td>1.388022e+08</td>\n",
       "      <td>2.112545e+08</td>\n",
       "    </tr>\n",
       "    <tr>\n",
       "      <th>19</th>\n",
       "      <td>History</td>\n",
       "      <td>3.558974e+07</td>\n",
       "      <td>154.924390</td>\n",
       "      <td>5.223288e+07</td>\n",
       "      <td>8.782263e+07</td>\n",
       "    </tr>\n",
       "    <tr>\n",
       "      <th>5</th>\n",
       "      <td>Crime</td>\n",
       "      <td>3.383696e+07</td>\n",
       "      <td>126.774218</td>\n",
       "      <td>5.263917e+07</td>\n",
       "      <td>8.647613e+07</td>\n",
       "    </tr>\n",
       "    <tr>\n",
       "      <th>3</th>\n",
       "      <td>Sport</td>\n",
       "      <td>2.550625e+07</td>\n",
       "      <td>121.370909</td>\n",
       "      <td>2.919063e+07</td>\n",
       "      <td>5.469688e+07</td>\n",
       "    </tr>\n",
       "    <tr>\n",
       "      <th>20</th>\n",
       "      <td>Western</td>\n",
       "      <td>6.342222e+07</td>\n",
       "      <td>87.547842</td>\n",
       "      <td>6.448982e+07</td>\n",
       "      <td>1.279120e+08</td>\n",
       "    </tr>\n",
       "    <tr>\n",
       "      <th>18</th>\n",
       "      <td>War</td>\n",
       "      <td>2.826471e+07</td>\n",
       "      <td>41.110865</td>\n",
       "      <td>2.951713e+07</td>\n",
       "      <td>5.778184e+07</td>\n",
       "    </tr>\n",
       "  </tbody>\n",
       "</table>\n",
       "</div>"
      ],
      "text/plain": [
       "          genre        budget    mean_roi   mean_profit  mean_ww_gross\n",
       "12       Horror  1.983247e+07  959.933922  5.887476e+07   7.870723e+07\n",
       "4       Mystery  2.605498e+07  944.029296  7.069490e+07   9.674988e+07\n",
       "16     Thriller  3.568454e+07  598.186551  9.246756e+07   1.281521e+08\n",
       "21      Overall  4.821342e+07  298.775147  1.060221e+08   1.542355e+08\n",
       "11       Sci_Fi  1.002206e+08  284.919637  2.670834e+08   3.673040e+08\n",
       "17    Animation  1.001939e+08  278.690125  2.885616e+08   3.887555e+08\n",
       "7       Romance  2.319897e+07  266.997046  4.729594e+07   7.049490e+07\n",
       "14        Music  2.167212e+07  260.835228  8.068378e+07   1.023559e+08\n",
       "6     Biography  2.645326e+07  249.716421  5.680710e+07   8.326035e+07\n",
       "8         Drama  2.831032e+07  239.786746  5.072263e+07   7.903295e+07\n",
       "10       Comedy  4.253050e+07  228.903605  1.004136e+08   1.429441e+08\n",
       "9       Musical  5.498333e+07  226.083644  2.380598e+08   2.930431e+08\n",
       "1       Fantasy  8.758922e+07  223.183648  1.600638e+08   2.476530e+08\n",
       "0     Adventure  1.092426e+08  216.977629  2.522447e+08   3.614874e+08\n",
       "15  Documentary  9.303630e+06  207.825140  1.933950e+07   2.864313e+07\n",
       "2        Action  8.398801e+07  177.098102  1.725864e+08   2.565744e+08\n",
       "13       Family  7.245233e+07  174.657142  1.388022e+08   2.112545e+08\n",
       "19      History  3.558974e+07  154.924390  5.223288e+07   8.782263e+07\n",
       "5         Crime  3.383696e+07  126.774218  5.263917e+07   8.647613e+07\n",
       "3         Sport  2.550625e+07  121.370909  2.919063e+07   5.469688e+07\n",
       "20      Western  6.342222e+07   87.547842  6.448982e+07   1.279120e+08\n",
       "18          War  2.826471e+07   41.110865  2.951713e+07   5.778184e+07"
      ]
     },
     "execution_count": 30,
     "metadata": {},
     "output_type": "execute_result"
    }
   ],
   "source": [
    "genre_means.sort_values('mean_roi', ascending=False)"
   ]
  },
  {
   "cell_type": "code",
   "execution_count": 31,
   "metadata": {
    "scrolled": true
   },
   "outputs": [
    {
     "data": {
      "text/html": [
       "<div>\n",
       "<style scoped>\n",
       "    .dataframe tbody tr th:only-of-type {\n",
       "        vertical-align: middle;\n",
       "    }\n",
       "\n",
       "    .dataframe tbody tr th {\n",
       "        vertical-align: top;\n",
       "    }\n",
       "\n",
       "    .dataframe thead th {\n",
       "        text-align: right;\n",
       "    }\n",
       "</style>\n",
       "<table border=\"1\" class=\"dataframe\">\n",
       "  <thead>\n",
       "    <tr style=\"text-align: right;\">\n",
       "      <th></th>\n",
       "      <th>genre</th>\n",
       "      <th>budget</th>\n",
       "      <th>mean_roi</th>\n",
       "      <th>mean_profit</th>\n",
       "      <th>mean_ww_gross</th>\n",
       "    </tr>\n",
       "  </thead>\n",
       "  <tbody>\n",
       "    <tr>\n",
       "      <th>0</th>\n",
       "      <td>Animation</td>\n",
       "      <td>1.001939e+08</td>\n",
       "      <td>278.690125</td>\n",
       "      <td>2.885616e+08</td>\n",
       "      <td>3.887555e+08</td>\n",
       "    </tr>\n",
       "    <tr>\n",
       "      <th>1</th>\n",
       "      <td>Sci_Fi</td>\n",
       "      <td>1.002206e+08</td>\n",
       "      <td>284.919637</td>\n",
       "      <td>2.670834e+08</td>\n",
       "      <td>3.673040e+08</td>\n",
       "    </tr>\n",
       "    <tr>\n",
       "      <th>2</th>\n",
       "      <td>Adventure</td>\n",
       "      <td>1.092426e+08</td>\n",
       "      <td>216.977629</td>\n",
       "      <td>2.522447e+08</td>\n",
       "      <td>3.614874e+08</td>\n",
       "    </tr>\n",
       "    <tr>\n",
       "      <th>3</th>\n",
       "      <td>Overall</td>\n",
       "      <td>4.821342e+07</td>\n",
       "      <td>298.775147</td>\n",
       "      <td>1.060221e+08</td>\n",
       "      <td>1.542355e+08</td>\n",
       "    </tr>\n",
       "  </tbody>\n",
       "</table>\n",
       "</div>"
      ],
      "text/plain": [
       "       genre        budget    mean_roi   mean_profit  mean_ww_gross\n",
       "0  Animation  1.001939e+08  278.690125  2.885616e+08   3.887555e+08\n",
       "1     Sci_Fi  1.002206e+08  284.919637  2.670834e+08   3.673040e+08\n",
       "2  Adventure  1.092426e+08  216.977629  2.522447e+08   3.614874e+08\n",
       "3    Overall  4.821342e+07  298.775147  1.060221e+08   1.542355e+08"
      ]
     },
     "execution_count": 31,
     "metadata": {},
     "output_type": "execute_result"
    }
   ],
   "source": [
    "top_profit"
   ]
  },
  {
   "cell_type": "code",
   "execution_count": 32,
   "metadata": {},
   "outputs": [
    {
     "data": {
      "text/html": [
       "<div>\n",
       "<style scoped>\n",
       "    .dataframe tbody tr th:only-of-type {\n",
       "        vertical-align: middle;\n",
       "    }\n",
       "\n",
       "    .dataframe tbody tr th {\n",
       "        vertical-align: top;\n",
       "    }\n",
       "\n",
       "    .dataframe thead th {\n",
       "        text-align: right;\n",
       "    }\n",
       "</style>\n",
       "<table border=\"1\" class=\"dataframe\">\n",
       "  <thead>\n",
       "    <tr style=\"text-align: right;\">\n",
       "      <th></th>\n",
       "      <th>genre</th>\n",
       "      <th>budget</th>\n",
       "      <th>mean_roi</th>\n",
       "      <th>mean_profit</th>\n",
       "      <th>mean_ww_gross</th>\n",
       "    </tr>\n",
       "  </thead>\n",
       "  <tbody>\n",
       "    <tr>\n",
       "      <th>0</th>\n",
       "      <td>Horror</td>\n",
       "      <td>1.983247e+07</td>\n",
       "      <td>959.933922</td>\n",
       "      <td>5.887476e+07</td>\n",
       "      <td>7.870723e+07</td>\n",
       "    </tr>\n",
       "    <tr>\n",
       "      <th>1</th>\n",
       "      <td>Mystery</td>\n",
       "      <td>2.605498e+07</td>\n",
       "      <td>944.029296</td>\n",
       "      <td>7.069490e+07</td>\n",
       "      <td>9.674988e+07</td>\n",
       "    </tr>\n",
       "    <tr>\n",
       "      <th>2</th>\n",
       "      <td>Thriller</td>\n",
       "      <td>3.568454e+07</td>\n",
       "      <td>598.186551</td>\n",
       "      <td>9.246756e+07</td>\n",
       "      <td>1.281521e+08</td>\n",
       "    </tr>\n",
       "    <tr>\n",
       "      <th>3</th>\n",
       "      <td>Overall</td>\n",
       "      <td>4.821342e+07</td>\n",
       "      <td>298.775147</td>\n",
       "      <td>1.060221e+08</td>\n",
       "      <td>1.542355e+08</td>\n",
       "    </tr>\n",
       "  </tbody>\n",
       "</table>\n",
       "</div>"
      ],
      "text/plain": [
       "      genre        budget    mean_roi   mean_profit  mean_ww_gross\n",
       "0    Horror  1.983247e+07  959.933922  5.887476e+07   7.870723e+07\n",
       "1   Mystery  2.605498e+07  944.029296  7.069490e+07   9.674988e+07\n",
       "2  Thriller  3.568454e+07  598.186551  9.246756e+07   1.281521e+08\n",
       "3   Overall  4.821342e+07  298.775147  1.060221e+08   1.542355e+08"
      ]
     },
     "execution_count": 32,
     "metadata": {},
     "output_type": "execute_result"
    }
   ],
   "source": [
    "top_roi"
   ]
  },
  {
   "cell_type": "code",
   "execution_count": 33,
   "metadata": {},
   "outputs": [
    {
     "data": {
      "image/png": "[encoded data removed]",
      "text/plain": [
       "<Figure size 1152x864 with 2 Axes>"
      ]
     },
     "metadata": {
      "needs_background": "light"
     },
     "output_type": "display_data"
    }
   ],
   "source": [
    "x= top_roi['genre']\n",
    "y=top_roi['mean_roi']\n",
    "fig, axs = plt.subplots(2, figsize=(16,12))\n",
    "axs[0].bar(top_roi['genre'], top_roi['mean_roi'])\n",
    "axs[0].set_title('Top 3 Mean ROI by Genre')\n",
    "axs[1].bar(top_profit['genre'], top_profit['mean_profit'])\n",
    "axs[1].set_title('Top 3 Mean Profit by Genre');"
   ]
  },
  {
   "cell_type": "code",
   "execution_count": 34,
   "metadata": {},
   "outputs": [
    {
     "data": {
      "text/html": [
       "<div>\n",
       "<style scoped>\n",
       "    .dataframe tbody tr th:only-of-type {\n",
       "        vertical-align: middle;\n",
       "    }\n",
       "\n",
       "    .dataframe tbody tr th {\n",
       "        vertical-align: top;\n",
       "    }\n",
       "\n",
       "    .dataframe thead th {\n",
       "        text-align: right;\n",
       "    }\n",
       "</style>\n",
       "<table border=\"1\" class=\"dataframe\">\n",
       "  <thead>\n",
       "    <tr style=\"text-align: right;\">\n",
       "      <th></th>\n",
       "      <th>genre</th>\n",
       "      <th>budget</th>\n",
       "      <th>mean_roi</th>\n",
       "      <th>mean_profit</th>\n",
       "      <th>mean_ww_gross</th>\n",
       "    </tr>\n",
       "  </thead>\n",
       "  <tbody>\n",
       "    <tr>\n",
       "      <th>4</th>\n",
       "      <td>Mystery</td>\n",
       "      <td>1.175361e+07</td>\n",
       "      <td>1829.866821</td>\n",
       "      <td>7.215167e+07</td>\n",
       "      <td>8.390528e+07</td>\n",
       "    </tr>\n",
       "    <tr>\n",
       "      <th>16</th>\n",
       "      <td>Thriller</td>\n",
       "      <td>1.240040e+07</td>\n",
       "      <td>1696.796697</td>\n",
       "      <td>7.922419e+07</td>\n",
       "      <td>9.162459e+07</td>\n",
       "    </tr>\n",
       "    <tr>\n",
       "      <th>12</th>\n",
       "      <td>Horror</td>\n",
       "      <td>1.983247e+07</td>\n",
       "      <td>959.933922</td>\n",
       "      <td>5.887476e+07</td>\n",
       "      <td>7.870723e+07</td>\n",
       "    </tr>\n",
       "    <tr>\n",
       "      <th>8</th>\n",
       "      <td>Drama</td>\n",
       "      <td>1.817244e+07</td>\n",
       "      <td>455.375358</td>\n",
       "      <td>3.839690e+07</td>\n",
       "      <td>5.656934e+07</td>\n",
       "    </tr>\n",
       "    <tr>\n",
       "      <th>11</th>\n",
       "      <td>Sci_Fi</td>\n",
       "      <td>3.316667e+07</td>\n",
       "      <td>393.294086</td>\n",
       "      <td>7.627897e+07</td>\n",
       "      <td>1.094456e+08</td>\n",
       "    </tr>\n",
       "    <tr>\n",
       "      <th>5</th>\n",
       "      <td>Crime</td>\n",
       "      <td>1.308000e+07</td>\n",
       "      <td>349.261721</td>\n",
       "      <td>2.981656e+07</td>\n",
       "      <td>4.289656e+07</td>\n",
       "    </tr>\n",
       "    <tr>\n",
       "      <th>2</th>\n",
       "      <td>Action</td>\n",
       "      <td>4.421818e+07</td>\n",
       "      <td>210.003109</td>\n",
       "      <td>7.930668e+07</td>\n",
       "      <td>1.235249e+08</td>\n",
       "    </tr>\n",
       "    <tr>\n",
       "      <th>0</th>\n",
       "      <td>Adventure</td>\n",
       "      <td>4.561250e+07</td>\n",
       "      <td>158.286001</td>\n",
       "      <td>7.824883e+07</td>\n",
       "      <td>1.238613e+08</td>\n",
       "    </tr>\n",
       "    <tr>\n",
       "      <th>1</th>\n",
       "      <td>Fantasy</td>\n",
       "      <td>3.890238e+07</td>\n",
       "      <td>129.548461</td>\n",
       "      <td>3.352697e+07</td>\n",
       "      <td>7.242935e+07</td>\n",
       "    </tr>\n",
       "    <tr>\n",
       "      <th>10</th>\n",
       "      <td>Comedy</td>\n",
       "      <td>2.714000e+07</td>\n",
       "      <td>109.675351</td>\n",
       "      <td>1.679593e+07</td>\n",
       "      <td>4.393593e+07</td>\n",
       "    </tr>\n",
       "    <tr>\n",
       "      <th>7</th>\n",
       "      <td>Romance</td>\n",
       "      <td>2.300000e+07</td>\n",
       "      <td>47.811108</td>\n",
       "      <td>1.993663e+07</td>\n",
       "      <td>4.293663e+07</td>\n",
       "    </tr>\n",
       "    <tr>\n",
       "      <th>13</th>\n",
       "      <td>Family</td>\n",
       "      <td>2.300000e+07</td>\n",
       "      <td>-40.897943</td>\n",
       "      <td>-9.406527e+06</td>\n",
       "      <td>1.359347e+07</td>\n",
       "    </tr>\n",
       "  </tbody>\n",
       "</table>\n",
       "</div>"
      ],
      "text/plain": [
       "        genre        budget     mean_roi   mean_profit  mean_ww_gross\n",
       "4     Mystery  1.175361e+07  1829.866821  7.215167e+07   8.390528e+07\n",
       "16   Thriller  1.240040e+07  1696.796697  7.922419e+07   9.162459e+07\n",
       "12     Horror  1.983247e+07   959.933922  5.887476e+07   7.870723e+07\n",
       "8       Drama  1.817244e+07   455.375358  3.839690e+07   5.656934e+07\n",
       "11     Sci_Fi  3.316667e+07   393.294086  7.627897e+07   1.094456e+08\n",
       "5       Crime  1.308000e+07   349.261721  2.981656e+07   4.289656e+07\n",
       "2      Action  4.421818e+07   210.003109  7.930668e+07   1.235249e+08\n",
       "0   Adventure  4.561250e+07   158.286001  7.824883e+07   1.238613e+08\n",
       "1     Fantasy  3.890238e+07   129.548461  3.352697e+07   7.242935e+07\n",
       "10     Comedy  2.714000e+07   109.675351  1.679593e+07   4.393593e+07\n",
       "7     Romance  2.300000e+07    47.811108  1.993663e+07   4.293663e+07\n",
       "13     Family  2.300000e+07   -40.897943 -9.406527e+06   1.359347e+07"
      ]
     },
     "execution_count": 34,
     "metadata": {},
     "output_type": "execute_result"
    }
   ],
   "source": [
    "def genre_combos(main_genre):\n",
    "    \n",
    "    all_main_genre = imdb_budget[imdb_budget[main_genre]==True]\n",
    "    main_genre_means = pd.DataFrame([(g, all_main_genre['production_budget'][all_main_genre[g]==True].mean(),\n",
    "                                 all_main_genre['roi'][all_main_genre[g]==True].mean(), \n",
    "                                 all_main_genre['profit'][all_main_genre[g]==True].mean(), \n",
    "                                 all_main_genre['worldwide_gross'][all_main_genre[g]==True].mean()) \n",
    "                                for g in imdbudget_genre_list], columns=['genre','budget','mean_roi','mean_profit', 'mean_ww_gross'])\n",
    "    main_genre_means.dropna(inplace=True)\n",
    "    \n",
    "    # also check to see if rating, budget, or runtime have a significant affect on roi for this particular genre\n",
    "    formula = 'roi ~ runtime_minutes + averagerating + production_budget'\n",
    "    lm = smf.ols(formula, all_main_genre).fit()\n",
    "    this_genre_summary = lm.summary()\n",
    "    \n",
    "    return main_genre_means.sort_values('mean_roi', ascending=False), this_genre_summary\n",
    "\n",
    "horror_means, horror_results = genre_combos('Horror')\n",
    "horror_means\n",
    "# horror_results"
   ]
  },
  {
   "cell_type": "code",
   "execution_count": 35,
   "metadata": {},
   "outputs": [
    {
     "data": {
      "text/html": [
       "<div>\n",
       "<style scoped>\n",
       "    .dataframe tbody tr th:only-of-type {\n",
       "        vertical-align: middle;\n",
       "    }\n",
       "\n",
       "    .dataframe tbody tr th {\n",
       "        vertical-align: top;\n",
       "    }\n",
       "\n",
       "    .dataframe thead th {\n",
       "        text-align: right;\n",
       "    }\n",
       "</style>\n",
       "<table border=\"1\" class=\"dataframe\">\n",
       "  <thead>\n",
       "    <tr style=\"text-align: right;\">\n",
       "      <th></th>\n",
       "      <th>genre</th>\n",
       "      <th>budget</th>\n",
       "      <th>mean_roi</th>\n",
       "      <th>mean_profit</th>\n",
       "      <th>mean_ww_gross</th>\n",
       "    </tr>\n",
       "  </thead>\n",
       "  <tbody>\n",
       "    <tr>\n",
       "      <th>12</th>\n",
       "      <td>Horror</td>\n",
       "      <td>1.175361e+07</td>\n",
       "      <td>1829.866821</td>\n",
       "      <td>7.215167e+07</td>\n",
       "      <td>8.390528e+07</td>\n",
       "    </tr>\n",
       "    <tr>\n",
       "      <th>16</th>\n",
       "      <td>Thriller</td>\n",
       "      <td>2.118554e+07</td>\n",
       "      <td>1791.001058</td>\n",
       "      <td>9.540731e+07</td>\n",
       "      <td>1.165928e+08</td>\n",
       "    </tr>\n",
       "    <tr>\n",
       "      <th>4</th>\n",
       "      <td>Mystery</td>\n",
       "      <td>2.605498e+07</td>\n",
       "      <td>944.029296</td>\n",
       "      <td>7.069490e+07</td>\n",
       "      <td>9.674988e+07</td>\n",
       "    </tr>\n",
       "    <tr>\n",
       "      <th>10</th>\n",
       "      <td>Comedy</td>\n",
       "      <td>2.154000e+07</td>\n",
       "      <td>327.115100</td>\n",
       "      <td>1.156889e+08</td>\n",
       "      <td>1.372289e+08</td>\n",
       "    </tr>\n",
       "    <tr>\n",
       "      <th>0</th>\n",
       "      <td>Adventure</td>\n",
       "      <td>8.500000e+07</td>\n",
       "      <td>313.162073</td>\n",
       "      <td>1.480358e+08</td>\n",
       "      <td>2.330358e+08</td>\n",
       "    </tr>\n",
       "    <tr>\n",
       "      <th>8</th>\n",
       "      <td>Drama</td>\n",
       "      <td>2.651430e+07</td>\n",
       "      <td>283.800390</td>\n",
       "      <td>4.057901e+07</td>\n",
       "      <td>6.709331e+07</td>\n",
       "    </tr>\n",
       "    <tr>\n",
       "      <th>11</th>\n",
       "      <td>Sci_Fi</td>\n",
       "      <td>4.114286e+07</td>\n",
       "      <td>248.287380</td>\n",
       "      <td>8.599010e+07</td>\n",
       "      <td>1.271330e+08</td>\n",
       "    </tr>\n",
       "    <tr>\n",
       "      <th>2</th>\n",
       "      <td>Action</td>\n",
       "      <td>6.107692e+07</td>\n",
       "      <td>190.605430</td>\n",
       "      <td>9.660330e+07</td>\n",
       "      <td>1.576802e+08</td>\n",
       "    </tr>\n",
       "    <tr>\n",
       "      <th>5</th>\n",
       "      <td>Crime</td>\n",
       "      <td>3.246800e+07</td>\n",
       "      <td>160.496433</td>\n",
       "      <td>4.641682e+07</td>\n",
       "      <td>7.888482e+07</td>\n",
       "    </tr>\n",
       "    <tr>\n",
       "      <th>18</th>\n",
       "      <td>War</td>\n",
       "      <td>6.800000e+06</td>\n",
       "      <td>135.857985</td>\n",
       "      <td>9.238343e+06</td>\n",
       "      <td>1.603834e+07</td>\n",
       "    </tr>\n",
       "    <tr>\n",
       "      <th>1</th>\n",
       "      <td>Fantasy</td>\n",
       "      <td>2.233333e+07</td>\n",
       "      <td>110.789573</td>\n",
       "      <td>1.688625e+07</td>\n",
       "      <td>3.921958e+07</td>\n",
       "    </tr>\n",
       "    <tr>\n",
       "      <th>7</th>\n",
       "      <td>Romance</td>\n",
       "      <td>1.510000e+07</td>\n",
       "      <td>58.000140</td>\n",
       "      <td>-1.691356e+06</td>\n",
       "      <td>1.340864e+07</td>\n",
       "    </tr>\n",
       "    <tr>\n",
       "      <th>6</th>\n",
       "      <td>Biography</td>\n",
       "      <td>2.500000e+07</td>\n",
       "      <td>-79.091068</td>\n",
       "      <td>-1.977277e+07</td>\n",
       "      <td>5.227233e+06</td>\n",
       "    </tr>\n",
       "    <tr>\n",
       "      <th>19</th>\n",
       "      <td>History</td>\n",
       "      <td>1.000000e+07</td>\n",
       "      <td>-83.836470</td>\n",
       "      <td>-8.383647e+06</td>\n",
       "      <td>1.616353e+06</td>\n",
       "    </tr>\n",
       "  </tbody>\n",
       "</table>\n",
       "</div>"
      ],
      "text/plain": [
       "        genre        budget     mean_roi   mean_profit  mean_ww_gross\n",
       "12     Horror  1.175361e+07  1829.866821  7.215167e+07   8.390528e+07\n",
       "16   Thriller  2.118554e+07  1791.001058  9.540731e+07   1.165928e+08\n",
       "4     Mystery  2.605498e+07   944.029296  7.069490e+07   9.674988e+07\n",
       "10     Comedy  2.154000e+07   327.115100  1.156889e+08   1.372289e+08\n",
       "0   Adventure  8.500000e+07   313.162073  1.480358e+08   2.330358e+08\n",
       "8       Drama  2.651430e+07   283.800390  4.057901e+07   6.709331e+07\n",
       "11     Sci_Fi  4.114286e+07   248.287380  8.599010e+07   1.271330e+08\n",
       "2      Action  6.107692e+07   190.605430  9.660330e+07   1.576802e+08\n",
       "5       Crime  3.246800e+07   160.496433  4.641682e+07   7.888482e+07\n",
       "18        War  6.800000e+06   135.857985  9.238343e+06   1.603834e+07\n",
       "1     Fantasy  2.233333e+07   110.789573  1.688625e+07   3.921958e+07\n",
       "7     Romance  1.510000e+07    58.000140 -1.691356e+06   1.340864e+07\n",
       "6   Biography  2.500000e+07   -79.091068 -1.977277e+07   5.227233e+06\n",
       "19    History  1.000000e+07   -83.836470 -8.383647e+06   1.616353e+06"
      ]
     },
     "execution_count": 35,
     "metadata": {},
     "output_type": "execute_result"
    }
   ],
   "source": [
    "mystery_means, mystery_results = genre_combos('Mystery')\n",
    "mystery_means\n",
    "# mystery_results"
   ]
  },
  {
   "cell_type": "code",
   "execution_count": 36,
   "metadata": {
    "scrolled": false
   },
   "outputs": [
    {
     "data": {
      "text/html": [
       "<div>\n",
       "<style scoped>\n",
       "    .dataframe tbody tr th:only-of-type {\n",
       "        vertical-align: middle;\n",
       "    }\n",
       "\n",
       "    .dataframe tbody tr th {\n",
       "        vertical-align: top;\n",
       "    }\n",
       "\n",
       "    .dataframe thead th {\n",
       "        text-align: right;\n",
       "    }\n",
       "</style>\n",
       "<table border=\"1\" class=\"dataframe\">\n",
       "  <thead>\n",
       "    <tr style=\"text-align: right;\">\n",
       "      <th></th>\n",
       "      <th>genre</th>\n",
       "      <th>budget</th>\n",
       "      <th>mean_roi</th>\n",
       "      <th>mean_profit</th>\n",
       "      <th>mean_ww_gross</th>\n",
       "    </tr>\n",
       "  </thead>\n",
       "  <tbody>\n",
       "    <tr>\n",
       "      <th>4</th>\n",
       "      <td>Mystery</td>\n",
       "      <td>2.118554e+07</td>\n",
       "      <td>1791.001058</td>\n",
       "      <td>9.540731e+07</td>\n",
       "      <td>1.165928e+08</td>\n",
       "    </tr>\n",
       "    <tr>\n",
       "      <th>12</th>\n",
       "      <td>Horror</td>\n",
       "      <td>1.240040e+07</td>\n",
       "      <td>1696.796697</td>\n",
       "      <td>7.922419e+07</td>\n",
       "      <td>9.162459e+07</td>\n",
       "    </tr>\n",
       "    <tr>\n",
       "      <th>16</th>\n",
       "      <td>Thriller</td>\n",
       "      <td>3.568454e+07</td>\n",
       "      <td>598.186551</td>\n",
       "      <td>9.246756e+07</td>\n",
       "      <td>1.281521e+08</td>\n",
       "    </tr>\n",
       "    <tr>\n",
       "      <th>7</th>\n",
       "      <td>Romance</td>\n",
       "      <td>3.864000e+07</td>\n",
       "      <td>484.912975</td>\n",
       "      <td>2.033518e+08</td>\n",
       "      <td>2.419918e+08</td>\n",
       "    </tr>\n",
       "    <tr>\n",
       "      <th>11</th>\n",
       "      <td>Sci_Fi</td>\n",
       "      <td>4.160476e+07</td>\n",
       "      <td>409.345288</td>\n",
       "      <td>1.486035e+08</td>\n",
       "      <td>1.902082e+08</td>\n",
       "    </tr>\n",
       "    <tr>\n",
       "      <th>6</th>\n",
       "      <td>Biography</td>\n",
       "      <td>3.422857e+07</td>\n",
       "      <td>291.789964</td>\n",
       "      <td>7.707519e+07</td>\n",
       "      <td>1.113038e+08</td>\n",
       "    </tr>\n",
       "    <tr>\n",
       "      <th>8</th>\n",
       "      <td>Drama</td>\n",
       "      <td>2.601707e+07</td>\n",
       "      <td>262.859494</td>\n",
       "      <td>5.343600e+07</td>\n",
       "      <td>7.945307e+07</td>\n",
       "    </tr>\n",
       "    <tr>\n",
       "      <th>1</th>\n",
       "      <td>Fantasy</td>\n",
       "      <td>3.350000e+07</td>\n",
       "      <td>228.625983</td>\n",
       "      <td>3.591047e+07</td>\n",
       "      <td>6.941047e+07</td>\n",
       "    </tr>\n",
       "    <tr>\n",
       "      <th>19</th>\n",
       "      <td>History</td>\n",
       "      <td>3.266667e+07</td>\n",
       "      <td>178.962101</td>\n",
       "      <td>7.842948e+07</td>\n",
       "      <td>1.110962e+08</td>\n",
       "    </tr>\n",
       "    <tr>\n",
       "      <th>2</th>\n",
       "      <td>Action</td>\n",
       "      <td>6.694231e+07</td>\n",
       "      <td>176.674565</td>\n",
       "      <td>1.438673e+08</td>\n",
       "      <td>2.108096e+08</td>\n",
       "    </tr>\n",
       "    <tr>\n",
       "      <th>0</th>\n",
       "      <td>Adventure</td>\n",
       "      <td>1.025000e+08</td>\n",
       "      <td>164.637690</td>\n",
       "      <td>2.000400e+08</td>\n",
       "      <td>3.025400e+08</td>\n",
       "    </tr>\n",
       "    <tr>\n",
       "      <th>10</th>\n",
       "      <td>Comedy</td>\n",
       "      <td>1.866667e+07</td>\n",
       "      <td>152.591496</td>\n",
       "      <td>2.104012e+07</td>\n",
       "      <td>3.970678e+07</td>\n",
       "    </tr>\n",
       "    <tr>\n",
       "      <th>5</th>\n",
       "      <td>Crime</td>\n",
       "      <td>3.946481e+07</td>\n",
       "      <td>104.218987</td>\n",
       "      <td>8.054042e+07</td>\n",
       "      <td>1.200052e+08</td>\n",
       "    </tr>\n",
       "    <tr>\n",
       "      <th>20</th>\n",
       "      <td>Western</td>\n",
       "      <td>2.300000e+06</td>\n",
       "      <td>-97.404522</td>\n",
       "      <td>-2.240304e+06</td>\n",
       "      <td>5.969600e+04</td>\n",
       "    </tr>\n",
       "    <tr>\n",
       "      <th>14</th>\n",
       "      <td>Music</td>\n",
       "      <td>2.000000e+06</td>\n",
       "      <td>-98.556800</td>\n",
       "      <td>-1.971136e+06</td>\n",
       "      <td>2.886400e+04</td>\n",
       "    </tr>\n",
       "  </tbody>\n",
       "</table>\n",
       "</div>"
      ],
      "text/plain": [
       "        genre        budget     mean_roi   mean_profit  mean_ww_gross\n",
       "4     Mystery  2.118554e+07  1791.001058  9.540731e+07   1.165928e+08\n",
       "12     Horror  1.240040e+07  1696.796697  7.922419e+07   9.162459e+07\n",
       "16   Thriller  3.568454e+07   598.186551  9.246756e+07   1.281521e+08\n",
       "7     Romance  3.864000e+07   484.912975  2.033518e+08   2.419918e+08\n",
       "11     Sci_Fi  4.160476e+07   409.345288  1.486035e+08   1.902082e+08\n",
       "6   Biography  3.422857e+07   291.789964  7.707519e+07   1.113038e+08\n",
       "8       Drama  2.601707e+07   262.859494  5.343600e+07   7.945307e+07\n",
       "1     Fantasy  3.350000e+07   228.625983  3.591047e+07   6.941047e+07\n",
       "19    History  3.266667e+07   178.962101  7.842948e+07   1.110962e+08\n",
       "2      Action  6.694231e+07   176.674565  1.438673e+08   2.108096e+08\n",
       "0   Adventure  1.025000e+08   164.637690  2.000400e+08   3.025400e+08\n",
       "10     Comedy  1.866667e+07   152.591496  2.104012e+07   3.970678e+07\n",
       "5       Crime  3.946481e+07   104.218987  8.054042e+07   1.200052e+08\n",
       "20    Western  2.300000e+06   -97.404522 -2.240304e+06   5.969600e+04\n",
       "14      Music  2.000000e+06   -98.556800 -1.971136e+06   2.886400e+04"
      ]
     },
     "execution_count": 36,
     "metadata": {},
     "output_type": "execute_result"
    }
   ],
   "source": [
    "thriller_means, thrill_results = genre_combos('Thriller')\n",
    "thriller_means\n",
    "# thrill_results"
   ]
  },
  {
   "cell_type": "code",
   "execution_count": 37,
   "metadata": {},
   "outputs": [
    {
     "name": "stdout",
     "output_type": "stream",
     "text": [
      "        genre        budget    mean_roi   mean_profit  mean_ww_gross\n",
      "2      Action  1.142500e+08  248.862486  3.069505e+08   4.212005e+08\n",
      "0   Adventure  1.045632e+08  276.030407  2.962842e+08   4.008474e+08\n",
      "10     Comedy  9.753205e+07  298.556991  2.929458e+08   3.904779e+08\n",
      "17  Animation  1.001939e+08  278.690125  2.885616e+08   3.887555e+08\n",
      "13     Family  6.405000e+07  237.259701  1.794857e+08   2.435357e+08\n",
      "8       Drama  8.000000e+06  -28.672900 -2.293832e+06   5.706168e+06\n"
     ]
    },
    {
     "data": {
      "text/html": [
       "<table class=\"simpletable\">\n",
       "<caption>OLS Regression Results</caption>\n",
       "<tr>\n",
       "  <th>Dep. Variable:</th>         <td>profit</td>      <th>  R-squared:         </th> <td>   0.218</td>\n",
       "</tr>\n",
       "<tr>\n",
       "  <th>Model:</th>                   <td>OLS</td>       <th>  Adj. R-squared:    </th> <td>   0.202</td>\n",
       "</tr>\n",
       "<tr>\n",
       "  <th>Method:</th>             <td>Least Squares</td>  <th>  F-statistic:       </th> <td>   13.25</td>\n",
       "</tr>\n",
       "<tr>\n",
       "  <th>Date:</th>             <td>Thu, 06 Feb 2025</td> <th>  Prob (F-statistic):</th> <td>8.42e-06</td>\n",
       "</tr>\n",
       "<tr>\n",
       "  <th>Time:</th>                 <td>10:28:51</td>     <th>  Log-Likelihood:    </th> <td> -2033.1</td>\n",
       "</tr>\n",
       "<tr>\n",
       "  <th>No. Observations:</th>      <td>    98</td>      <th>  AIC:               </th> <td>   4072.</td>\n",
       "</tr>\n",
       "<tr>\n",
       "  <th>Df Residuals:</th>          <td>    95</td>      <th>  BIC:               </th> <td>   4080.</td>\n",
       "</tr>\n",
       "<tr>\n",
       "  <th>Df Model:</th>              <td>     2</td>      <th>                     </th>     <td> </td>   \n",
       "</tr>\n",
       "<tr>\n",
       "  <th>Covariance Type:</th>      <td>nonrobust</td>    <th>                     </th>     <td> </td>   \n",
       "</tr>\n",
       "</table>\n",
       "<table class=\"simpletable\">\n",
       "<tr>\n",
       "         <td></td>            <th>coef</th>     <th>std err</th>      <th>t</th>      <th>P>|t|</th>  <th>[0.025</th>    <th>0.975]</th>  \n",
       "</tr>\n",
       "<tr>\n",
       "  <th>Intercept</th>       <td> -1.07e+09</td> <td>  3.1e+08</td> <td>   -3.446</td> <td> 0.001</td> <td>-1.69e+09</td> <td>-4.54e+08</td>\n",
       "</tr>\n",
       "<tr>\n",
       "  <th>runtime_minutes</th> <td> 8.637e+06</td> <td> 3.58e+06</td> <td>    2.412</td> <td> 0.018</td> <td> 1.53e+06</td> <td> 1.57e+07</td>\n",
       "</tr>\n",
       "<tr>\n",
       "  <th>averagerating</th>   <td> 8.201e+07</td> <td> 2.64e+07</td> <td>    3.105</td> <td> 0.003</td> <td> 2.96e+07</td> <td> 1.34e+08</td>\n",
       "</tr>\n",
       "</table>\n",
       "<table class=\"simpletable\">\n",
       "<tr>\n",
       "  <th>Omnibus:</th>       <td>24.235</td> <th>  Durbin-Watson:     </th> <td>   1.666</td>\n",
       "</tr>\n",
       "<tr>\n",
       "  <th>Prob(Omnibus):</th> <td> 0.000</td> <th>  Jarque-Bera (JB):  </th> <td>  33.090</td>\n",
       "</tr>\n",
       "<tr>\n",
       "  <th>Skew:</th>          <td> 1.208</td> <th>  Prob(JB):          </th> <td>6.53e-08</td>\n",
       "</tr>\n",
       "<tr>\n",
       "  <th>Kurtosis:</th>      <td> 4.507</td> <th>  Cond. No.          </th> <td>1.17e+03</td>\n",
       "</tr>\n",
       "</table><br/><br/>Notes:<br/>[1] Standard Errors assume that the covariance matrix of the errors is correctly specified.<br/>[2] The condition number is large, 1.17e+03. This might indicate that there are<br/>strong multicollinearity or other numerical problems."
      ],
      "text/plain": [
       "<class 'statsmodels.iolib.summary.Summary'>\n",
       "\"\"\"\n",
       "                            OLS Regression Results                            \n",
       "==============================================================================\n",
       "Dep. Variable:                 profit   R-squared:                       0.218\n",
       "Model:                            OLS   Adj. R-squared:                  0.202\n",
       "Method:                 Least Squares   F-statistic:                     13.25\n",
       "Date:                Thu, 06 Feb 2025   Prob (F-statistic):           8.42e-06\n",
       "Time:                        10:28:51   Log-Likelihood:                -2033.1\n",
       "No. Observations:                  98   AIC:                             4072.\n",
       "Df Residuals:                      95   BIC:                             4080.\n",
       "Df Model:                           2                                         \n",
       "Covariance Type:            nonrobust                                         \n",
       "===================================================================================\n",
       "                      coef    std err          t      P>|t|      [0.025      0.975]\n",
       "-----------------------------------------------------------------------------------\n",
       "Intercept        -1.07e+09    3.1e+08     -3.446      0.001   -1.69e+09   -4.54e+08\n",
       "runtime_minutes  8.637e+06   3.58e+06      2.412      0.018    1.53e+06    1.57e+07\n",
       "averagerating    8.201e+07   2.64e+07      3.105      0.003    2.96e+07    1.34e+08\n",
       "==============================================================================\n",
       "Omnibus:                       24.235   Durbin-Watson:                   1.666\n",
       "Prob(Omnibus):                  0.000   Jarque-Bera (JB):               33.090\n",
       "Skew:                           1.208   Prob(JB):                     6.53e-08\n",
       "Kurtosis:                       4.507   Cond. No.                     1.17e+03\n",
       "==============================================================================\n",
       "\n",
       "Notes:\n",
       "[1] Standard Errors assume that the covariance matrix of the errors is correctly specified.\n",
       "[2] The condition number is large, 1.17e+03. This might indicate that there are\n",
       "strong multicollinearity or other numerical problems.\n",
       "\"\"\""
      ]
     },
     "execution_count": 37,
     "metadata": {},
     "output_type": "execute_result"
    }
   ],
   "source": [
    "def genre_combos_profit(main_genre):\n",
    "    \n",
    "    all_main_genre = imdb_budget[imdb_budget[main_genre]==True]\n",
    "    main_genre_means = pd.DataFrame([(g, all_main_genre['production_budget'][all_main_genre[g]==True].mean(),\n",
    "                                 all_main_genre['roi'][all_main_genre[g]==True].mean(), \n",
    "                                 all_main_genre['profit'][all_main_genre[g]==True].mean(), \n",
    "                                 all_main_genre['worldwide_gross'][all_main_genre[g]==True].mean()) \n",
    "                                for g in imdbudget_genre_list], columns=['genre','budget','mean_roi','mean_profit', 'mean_ww_gross'])\n",
    "    main_genre_means.dropna(inplace=True)\n",
    "    \n",
    "    # also run analysis on rating vs genre and budget vs genre? and runtime?\n",
    "    formula = 'profit ~ runtime_minutes + averagerating'\n",
    "    lm = smf.ols(formula, all_main_genre).fit()\n",
    "    this_genre_summary = lm.summary()\n",
    "    \n",
    "    return main_genre_means.sort_values('mean_profit', ascending=False), this_genre_summary\n",
    "\n",
    "animation_means, anim_results = genre_combos_profit('Animation')\n",
    "print(animation_means)\n",
    "anim_results"
   ]
  },
  {
   "cell_type": "code",
   "execution_count": 38,
   "metadata": {},
   "outputs": [
    {
     "name": "stdout",
     "output_type": "stream",
     "text": [
      "        genre        budget    mean_roi   mean_profit  mean_ww_gross\n",
      "0   Adventure  1.660386e+08  274.248053  4.668479e+08   6.328865e+08\n",
      "2      Action  1.298583e+08  282.462587  3.527055e+08   4.825638e+08\n",
      "11     Sci_Fi  1.002206e+08  284.919637  2.670834e+08   3.673040e+08\n",
      "16   Thriller  4.160476e+07  409.345288  1.486035e+08   1.902082e+08\n",
      "8       Drama  5.538190e+07  324.308572  1.353754e+08   1.907573e+08\n",
      "4     Mystery  4.114286e+07  248.287380  8.599010e+07   1.271330e+08\n",
      "12     Horror  3.316667e+07  393.294086  7.627897e+07   1.094456e+08\n",
      "7     Romance  3.356250e+07  259.182459  5.141085e+07   8.497335e+07\n",
      "13     Family  1.300000e+07  224.419577  2.917454e+07   4.217454e+07\n",
      "10     Comedy  3.080000e+07   96.221035  2.771306e+07   5.851306e+07\n",
      "5       Crime  5.425000e+07   10.715058  2.597941e+07   8.022941e+07\n",
      "1     Fantasy  3.200000e+06  471.423750  1.508556e+07   1.828556e+07\n"
     ]
    },
    {
     "data": {
      "text/html": [
       "<table class=\"simpletable\">\n",
       "<caption>OLS Regression Results</caption>\n",
       "<tr>\n",
       "  <th>Dep. Variable:</th>         <td>profit</td>      <th>  R-squared:         </th> <td>   0.398</td>\n",
       "</tr>\n",
       "<tr>\n",
       "  <th>Model:</th>                   <td>OLS</td>       <th>  Adj. R-squared:    </th> <td>   0.388</td>\n",
       "</tr>\n",
       "<tr>\n",
       "  <th>Method:</th>             <td>Least Squares</td>  <th>  F-statistic:       </th> <td>   40.32</td>\n",
       "</tr>\n",
       "<tr>\n",
       "  <th>Date:</th>             <td>Thu, 06 Feb 2025</td> <th>  Prob (F-statistic):</th> <td>3.62e-14</td>\n",
       "</tr>\n",
       "<tr>\n",
       "  <th>Time:</th>                 <td>10:28:51</td>     <th>  Log-Likelihood:    </th> <td> -2604.2</td>\n",
       "</tr>\n",
       "<tr>\n",
       "  <th>No. Observations:</th>      <td>   125</td>      <th>  AIC:               </th> <td>   5214.</td>\n",
       "</tr>\n",
       "<tr>\n",
       "  <th>Df Residuals:</th>          <td>   122</td>      <th>  BIC:               </th> <td>   5223.</td>\n",
       "</tr>\n",
       "<tr>\n",
       "  <th>Df Model:</th>              <td>     2</td>      <th>                     </th>     <td> </td>   \n",
       "</tr>\n",
       "<tr>\n",
       "  <th>Covariance Type:</th>      <td>nonrobust</td>    <th>                     </th>     <td> </td>   \n",
       "</tr>\n",
       "</table>\n",
       "<table class=\"simpletable\">\n",
       "<tr>\n",
       "         <td></td>            <th>coef</th>     <th>std err</th>      <th>t</th>      <th>P>|t|</th>  <th>[0.025</th>    <th>0.975]</th>  \n",
       "</tr>\n",
       "<tr>\n",
       "  <th>Intercept</th>       <td>-1.287e+09</td> <td> 1.85e+08</td> <td>   -6.948</td> <td> 0.000</td> <td>-1.65e+09</td> <td>-9.21e+08</td>\n",
       "</tr>\n",
       "<tr>\n",
       "  <th>runtime_minutes</th> <td>  8.95e+06</td> <td> 1.44e+06</td> <td>    6.197</td> <td> 0.000</td> <td> 6.09e+06</td> <td> 1.18e+07</td>\n",
       "</tr>\n",
       "<tr>\n",
       "  <th>averagerating</th>   <td> 7.867e+07</td> <td> 2.91e+07</td> <td>    2.703</td> <td> 0.008</td> <td> 2.11e+07</td> <td> 1.36e+08</td>\n",
       "</tr>\n",
       "</table>\n",
       "<table class=\"simpletable\">\n",
       "<tr>\n",
       "  <th>Omnibus:</th>       <td>41.604</td> <th>  Durbin-Watson:     </th> <td>   1.964</td>\n",
       "</tr>\n",
       "<tr>\n",
       "  <th>Prob(Omnibus):</th> <td> 0.000</td> <th>  Jarque-Bera (JB):  </th> <td>  94.019</td>\n",
       "</tr>\n",
       "<tr>\n",
       "  <th>Skew:</th>          <td> 1.351</td> <th>  Prob(JB):          </th> <td>3.84e-21</td>\n",
       "</tr>\n",
       "<tr>\n",
       "  <th>Kurtosis:</th>      <td> 6.280</td> <th>  Cond. No.          </th> <td>    895.</td>\n",
       "</tr>\n",
       "</table><br/><br/>Notes:<br/>[1] Standard Errors assume that the covariance matrix of the errors is correctly specified."
      ],
      "text/plain": [
       "<class 'statsmodels.iolib.summary.Summary'>\n",
       "\"\"\"\n",
       "                            OLS Regression Results                            \n",
       "==============================================================================\n",
       "Dep. Variable:                 profit   R-squared:                       0.398\n",
       "Model:                            OLS   Adj. R-squared:                  0.388\n",
       "Method:                 Least Squares   F-statistic:                     40.32\n",
       "Date:                Thu, 06 Feb 2025   Prob (F-statistic):           3.62e-14\n",
       "Time:                        10:28:51   Log-Likelihood:                -2604.2\n",
       "No. Observations:                 125   AIC:                             5214.\n",
       "Df Residuals:                     122   BIC:                             5223.\n",
       "Df Model:                           2                                         \n",
       "Covariance Type:            nonrobust                                         \n",
       "===================================================================================\n",
       "                      coef    std err          t      P>|t|      [0.025      0.975]\n",
       "-----------------------------------------------------------------------------------\n",
       "Intercept       -1.287e+09   1.85e+08     -6.948      0.000   -1.65e+09   -9.21e+08\n",
       "runtime_minutes   8.95e+06   1.44e+06      6.197      0.000    6.09e+06    1.18e+07\n",
       "averagerating    7.867e+07   2.91e+07      2.703      0.008    2.11e+07    1.36e+08\n",
       "==============================================================================\n",
       "Omnibus:                       41.604   Durbin-Watson:                   1.964\n",
       "Prob(Omnibus):                  0.000   Jarque-Bera (JB):               94.019\n",
       "Skew:                           1.351   Prob(JB):                     3.84e-21\n",
       "Kurtosis:                       6.280   Cond. No.                         895.\n",
       "==============================================================================\n",
       "\n",
       "Notes:\n",
       "[1] Standard Errors assume that the covariance matrix of the errors is correctly specified.\n",
       "\"\"\""
      ]
     },
     "execution_count": 38,
     "metadata": {},
     "output_type": "execute_result"
    }
   ],
   "source": [
    "scifi_means, scifi_results = genre_combos_profit('Sci_Fi')\n",
    "print(scifi_means)\n",
    "scifi_results"
   ]
  },
  {
   "cell_type": "code",
   "execution_count": 39,
   "metadata": {},
   "outputs": [
    {
     "name": "stdout",
     "output_type": "stream",
     "text": [
      "        genre        budget    mean_roi   mean_profit  mean_ww_gross\n",
      "11     Sci_Fi  1.660386e+08  274.248053  4.668479e+08   6.328865e+08\n",
      "17  Animation  1.045632e+08  276.030407  2.962842e+08   4.008474e+08\n",
      "2      Action  1.305135e+08  203.741637  2.903387e+08   4.208522e+08\n",
      "1     Fantasy  1.408236e+08  195.445884  2.627528e+08   4.035764e+08\n",
      "0   Adventure  1.092426e+08  216.977629  2.522447e+08   3.614874e+08\n",
      "10     Comedy  8.533360e+07  261.651254  2.358523e+08   3.211859e+08\n",
      "16   Thriller  1.025000e+08  164.637690  2.000400e+08   3.025400e+08\n",
      "13     Family  1.048512e+08  109.303806  1.631259e+08   2.679771e+08\n",
      "4     Mystery  8.500000e+07  313.162073  1.480358e+08   2.330358e+08\n",
      "8       Drama  6.699167e+07  183.135781  1.094944e+08   1.764860e+08\n",
      "6   Biography  4.762500e+07  231.149839  8.701905e+07   1.346441e+08\n",
      "5       Crime  4.785714e+07  149.648564  7.860231e+07   1.264595e+08\n",
      "12     Horror  4.561250e+07  158.286001  7.824883e+07   1.238613e+08\n",
      "20    Western  1.011250e+08  155.743055  6.788038e+07   1.690054e+08\n",
      "14      Music  4.000000e+07  128.639688  5.145588e+07   9.145588e+07\n",
      "7     Romance  3.912500e+07   28.743398  1.959229e+07   5.871729e+07\n",
      "19    History  4.650000e+07  -48.974998 -2.277337e+07   2.372663e+07\n"
     ]
    },
    {
     "data": {
      "text/html": [
       "<table class=\"simpletable\">\n",
       "<caption>OLS Regression Results</caption>\n",
       "<tr>\n",
       "  <th>Dep. Variable:</th>         <td>profit</td>      <th>  R-squared:         </th> <td>   0.269</td> \n",
       "</tr>\n",
       "<tr>\n",
       "  <th>Model:</th>                   <td>OLS</td>       <th>  Adj. R-squared:    </th> <td>   0.265</td> \n",
       "</tr>\n",
       "<tr>\n",
       "  <th>Method:</th>             <td>Least Squares</td>  <th>  F-statistic:       </th> <td>   62.05</td> \n",
       "</tr>\n",
       "<tr>\n",
       "  <th>Date:</th>             <td>Thu, 06 Feb 2025</td> <th>  Prob (F-statistic):</th> <td>1.14e-23</td> \n",
       "</tr>\n",
       "<tr>\n",
       "  <th>Time:</th>                 <td>10:28:51</td>     <th>  Log-Likelihood:    </th> <td> -7066.8</td> \n",
       "</tr>\n",
       "<tr>\n",
       "  <th>No. Observations:</th>      <td>   340</td>      <th>  AIC:               </th> <td>1.414e+04</td>\n",
       "</tr>\n",
       "<tr>\n",
       "  <th>Df Residuals:</th>          <td>   337</td>      <th>  BIC:               </th> <td>1.415e+04</td>\n",
       "</tr>\n",
       "<tr>\n",
       "  <th>Df Model:</th>              <td>     2</td>      <th>                     </th>     <td> </td>    \n",
       "</tr>\n",
       "<tr>\n",
       "  <th>Covariance Type:</th>      <td>nonrobust</td>    <th>                     </th>     <td> </td>    \n",
       "</tr>\n",
       "</table>\n",
       "<table class=\"simpletable\">\n",
       "<tr>\n",
       "         <td></td>            <th>coef</th>     <th>std err</th>      <th>t</th>      <th>P>|t|</th>  <th>[0.025</th>    <th>0.975]</th>  \n",
       "</tr>\n",
       "<tr>\n",
       "  <th>Intercept</th>       <td>-9.861e+08</td> <td> 1.12e+08</td> <td>   -8.775</td> <td> 0.000</td> <td>-1.21e+09</td> <td>-7.65e+08</td>\n",
       "</tr>\n",
       "<tr>\n",
       "  <th>runtime_minutes</th> <td> 3.642e+06</td> <td> 8.03e+05</td> <td>    4.536</td> <td> 0.000</td> <td> 2.06e+06</td> <td> 5.22e+06</td>\n",
       "</tr>\n",
       "<tr>\n",
       "  <th>averagerating</th>   <td> 1.284e+08</td> <td> 1.61e+07</td> <td>    7.958</td> <td> 0.000</td> <td> 9.66e+07</td> <td>  1.6e+08</td>\n",
       "</tr>\n",
       "</table>\n",
       "<table class=\"simpletable\">\n",
       "<tr>\n",
       "  <th>Omnibus:</th>       <td>84.282</td> <th>  Durbin-Watson:     </th> <td>   1.940</td>\n",
       "</tr>\n",
       "<tr>\n",
       "  <th>Prob(Omnibus):</th> <td> 0.000</td> <th>  Jarque-Bera (JB):  </th> <td> 173.528</td>\n",
       "</tr>\n",
       "<tr>\n",
       "  <th>Skew:</th>          <td> 1.283</td> <th>  Prob(JB):          </th> <td>2.08e-38</td>\n",
       "</tr>\n",
       "<tr>\n",
       "  <th>Kurtosis:</th>      <td> 5.380</td> <th>  Cond. No.          </th> <td>    912.</td>\n",
       "</tr>\n",
       "</table><br/><br/>Notes:<br/>[1] Standard Errors assume that the covariance matrix of the errors is correctly specified."
      ],
      "text/plain": [
       "<class 'statsmodels.iolib.summary.Summary'>\n",
       "\"\"\"\n",
       "                            OLS Regression Results                            \n",
       "==============================================================================\n",
       "Dep. Variable:                 profit   R-squared:                       0.269\n",
       "Model:                            OLS   Adj. R-squared:                  0.265\n",
       "Method:                 Least Squares   F-statistic:                     62.05\n",
       "Date:                Thu, 06 Feb 2025   Prob (F-statistic):           1.14e-23\n",
       "Time:                        10:28:51   Log-Likelihood:                -7066.8\n",
       "No. Observations:                 340   AIC:                         1.414e+04\n",
       "Df Residuals:                     337   BIC:                         1.415e+04\n",
       "Df Model:                           2                                         \n",
       "Covariance Type:            nonrobust                                         \n",
       "===================================================================================\n",
       "                      coef    std err          t      P>|t|      [0.025      0.975]\n",
       "-----------------------------------------------------------------------------------\n",
       "Intercept       -9.861e+08   1.12e+08     -8.775      0.000   -1.21e+09   -7.65e+08\n",
       "runtime_minutes  3.642e+06   8.03e+05      4.536      0.000    2.06e+06    5.22e+06\n",
       "averagerating    1.284e+08   1.61e+07      7.958      0.000    9.66e+07     1.6e+08\n",
       "==============================================================================\n",
       "Omnibus:                       84.282   Durbin-Watson:                   1.940\n",
       "Prob(Omnibus):                  0.000   Jarque-Bera (JB):              173.528\n",
       "Skew:                           1.283   Prob(JB):                     2.08e-38\n",
       "Kurtosis:                       5.380   Cond. No.                         912.\n",
       "==============================================================================\n",
       "\n",
       "Notes:\n",
       "[1] Standard Errors assume that the covariance matrix of the errors is correctly specified.\n",
       "\"\"\""
      ]
     },
     "execution_count": 39,
     "metadata": {},
     "output_type": "execute_result"
    }
   ],
   "source": [
    "adventure_means, adv_results = genre_combos_profit('Adventure')\n",
    "print(adventure_means)\n",
    "adv_results"
   ]
  },
  {
   "cell_type": "code",
   "execution_count": 40,
   "metadata": {
    "scrolled": false
   },
   "outputs": [
    {
     "data": {
      "image/png": "[encoded data removed]",
      "text/plain": [
       "<Figure size 1152x864 with 1 Axes>"
      ]
     },
     "metadata": {
      "needs_background": "light"
     },
     "output_type": "display_data"
    }
   ],
   "source": [
    "all_horror = imdb_budget[imdb_budget['Horror']==True]\n",
    "fig, ax = plt.subplots(figsize=(16,12))\n",
    "ax.scatter(all_horror.production_budget, all_horror.roi)\n",
    "ax.set_title('');"
   ]
  },
  {
   "cell_type": "code",
   "execution_count": null,
   "metadata": {},
   "outputs": [],
   "source": []
  },
  {
   "cell_type": "code",
   "execution_count": null,
   "metadata": {},
   "outputs": [],
   "source": []
  },
  {
   "cell_type": "markdown",
   "metadata": {},
   "source": [
    "### Data Preparation"
   ]
  },
  {
   "cell_type": "code",
   "execution_count": null,
   "metadata": {
    "scrolled": true
   },
   "outputs": [],
   "source": []
  },
  {
   "cell_type": "markdown",
   "metadata": {},
   "source": [
    "### Modeling"
   ]
  },
  {
   "cell_type": "code",
   "execution_count": null,
   "metadata": {
    "scrolled": true
   },
   "outputs": [],
   "source": []
  },
  {
   "cell_type": "markdown",
   "metadata": {},
   "source": [
    "### Evaluation"
   ]
  },
  {
   "cell_type": "code",
   "execution_count": null,
   "metadata": {
    "scrolled": true
   },
   "outputs": [],
   "source": []
  },
  {
   "cell_type": "markdown",
   "metadata": {},
   "source": [
    "### Deployment"
   ]
  },
  {
   "cell_type": "code",
   "execution_count": null,
   "metadata": {
    "scrolled": true
   },
   "outputs": [],
   "source": []
  },
  {
   "cell_type": "code",
   "execution_count": null,
   "metadata": {
    "scrolled": true
   },
   "outputs": [],
   "source": []
  },
  {
   "cell_type": "code",
   "execution_count": 41,
   "metadata": {
    "scrolled": true
   },
   "outputs": [],
   "source": [
    "# budget.drop_duplicates(subset=['movie','year'],, keep=False inplace=True)\n",
    "# budget[budget.movie.duplicated(keep=False)].sort_values('movie')"
   ]
  },
  {
   "cell_type": "code",
   "execution_count": 42,
   "metadata": {
    "scrolled": true
   },
   "outputs": [],
   "source": [
    "# There is one duplicate movie title. I will \n",
    "\n",
    "# budget.drop_duplicates(subset=['movie','year'], inplace=True)\n",
    "# budget"
   ]
  },
  {
   "cell_type": "code",
   "execution_count": 43,
   "metadata": {
    "scrolled": true
   },
   "outputs": [],
   "source": [
    "# imdb[imdb['primary_title'].str.contains( 'The Promise')]\n",
    "# # budget.reset_index(inplace=True)\n",
    "# # budget[budget['title'].str.contains( 'The Promise')]"
   ]
  },
  {
   "cell_type": "code",
   "execution_count": 44,
   "metadata": {
    "scrolled": true
   },
   "outputs": [],
   "source": [
    "# budget[budget.index.duplicated(keep=False)].sort_values('movie').head(50)"
   ]
  },
  {
   "cell_type": "code",
   "execution_count": 45,
   "metadata": {
    "scrolled": true
   },
   "outputs": [],
   "source": [
    "# imdb.reset_index(inplace=True)\n",
    "# imdb.drop_duplicates(subset=['title','year'], keep=False)\n",
    "\n",
    "\n",
    "# budget[budget.index.duplicated(keep=False)]"
   ]
  },
  {
   "cell_type": "code",
   "execution_count": 46,
   "metadata": {
    "scrolled": true
   },
   "outputs": [],
   "source": [
    "# gross[gross.index.duplicated(keep=False)].sort_values('title').head(50)\n",
    "# gross.drop_duplicates(subset='title', inplace=True)"
   ]
  },
  {
   "cell_type": "code",
   "execution_count": null,
   "metadata": {},
   "outputs": [],
   "source": []
  },
  {
   "cell_type": "code",
   "execution_count": 47,
   "metadata": {
    "scrolled": false
   },
   "outputs": [],
   "source": [
    "# gross=pd.read_csv(\"./data/bom.movie_gross.csv.gz\")\n",
    "# gross.info()"
   ]
  },
  {
   "cell_type": "code",
   "execution_count": 48,
   "metadata": {
    "scrolled": true
   },
   "outputs": [],
   "source": [
    "# gross.head()"
   ]
  },
  {
   "cell_type": "code",
   "execution_count": 49,
   "metadata": {
    "scrolled": true
   },
   "outputs": [],
   "source": [
    "# # Convert foreign gross to a number\n",
    "# gross['foreign_gross'] = pd.to_numeric(gross.foreign_gross.str.replace('[,]',''))\n",
    "\n",
    "# #Foreign gross over $1 billion is listed in millions (verified by comparing this database to the budget database)\n",
    "# gross.loc[gross[gross['title']=='The Fate of the Furious'].index,'foreign_gross'] = 1010*1000000\n",
    "# gross.loc[gross[gross['title']=='Jurassic World'].index,'foreign_gross'] = 1019.4*1000000\n",
    "# gross.loc[gross[gross['title']=='Star Wars: The Force Awakens'].index,'foreign_gross'] = 1131.6*1000000\n",
    "# gross.loc[gross[gross['title']=='Furious 7'].index,'foreign_gross'] = 1163*1000000\n",
    "# gross.loc[gross[gross['title']=='Avengers: Infinity War'].index,'foreign_gross'] = 1369.5*1000000\n",
    "# gross.fillna(0, inplace=True)\n",
    "\n",
    "# gross['worldwide_gross'] = gross.domestic_gross + gross.foreign_gross\n",
    "# gross.set_index(['title','year'], inplace=True)\n",
    "# imdb_gross = pd.concat([imdb, gross], axis=1, join=\"inner\")"
   ]
  },
  {
   "cell_type": "code",
   "execution_count": null,
   "metadata": {},
   "outputs": [],
   "source": []
  }
 ],
 "metadata": {
  "kernelspec": {
   "display_name": "Python 3",
   "language": "python",
   "name": "python3"
  },
  "language_info": {
   "codemirror_mode": {
    "name": "ipython",
    "version": 3
   },
   "file_extension": ".py",
   "mimetype": "text/x-python",
   "name": "python",
   "nbconvert_exporter": "python",
   "pygments_lexer": "ipython3",
   "version": "3.8.5"
  }
 },
 "nbformat": 4,
 "nbformat_minor": 2
}
